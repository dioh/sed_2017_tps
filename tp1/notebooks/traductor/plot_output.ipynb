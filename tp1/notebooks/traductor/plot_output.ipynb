{
 "metadata": {
  "name": "",
  "signature": "sha256:2b05ccd6ec771d6528382257c28260d854236cac34d0c4029982f8df8725c773"
 },
 "nbformat": 3,
 "nbformat_minor": 0,
 "worksheets": [
  {
   "cells": [
    {
     "cell_type": "code",
     "collapsed": false,
     "input": [
      "import re\n",
      "import matplotlib.pyplot as plt\n",
      "import random\n",
      "\n",
      "filename = 'goodwin/goodwin.out'\n",
      "variables = ['out_capitalintegrator', 'out_employmentrate', 'out_labor', 'out_output', 'out_debtrate']\n",
      "#filename = 'lotka-volterra/lotka-volterra.out'\n",
      "#variables = ['out_predatorintegrator', 'out_preyintegrator']\n",
      "\n",
      "\n",
      "\n",
      "def get_var(out_var):\n",
      "    out = []\n",
      "    def str2time(s):\n",
      "        ls = list(map(lambda x : float(x), s.split(':'))) # hh : mm : ss : ms : ???\n",
      "        return round(ls[0] * 3600 + ls[1] * 60 + ls[2] + ls[3] / 1000., 2)\n",
      "\n",
      "    with open(filename, 'r') as f:\n",
      "        for line in f:\n",
      "            line_split = line.split(' ')\n",
      "            if(line_split[1] == out_var):\n",
      "                t = str2time(line_split[0])\n",
      "                val = float(re.split(\"(\\[.+?\\])\", line_split[2])[1].replace('[', '').replace(']', ''))\n",
      "                out.append((t, val))\n",
      "    return out\n",
      "# rand_smpl = [ mylist[i] for i in sorted(random.sample(xrange(len(mylist)), 4)) ]"
     ],
     "language": "python",
     "metadata": {},
     "outputs": [],
     "prompt_number": 1
    },
    {
     "cell_type": "code",
     "collapsed": false,
     "input": [
      "#for varname in variables:\n",
      "#    plt.figure(1)\n",
      "#    mylist = get_var(varname)\n",
      "#    ts,vals = zip(*mylist)\n",
      "#    plt.plot(ts,vals)\n",
      "#\n",
      "#plt.show()"
     ],
     "language": "python",
     "metadata": {},
     "outputs": [],
     "prompt_number": 2
    },
    {
     "cell_type": "code",
     "collapsed": false,
     "input": [
      "i = 1\n",
      "for varname in variables:\n",
      "    mylist = get_var(varname)\n",
      "    ts, vals = zip(*mylist)\n",
      "    \n",
      "    plt.figure(i)\n",
      "    plt.plot(ts,vals)\n",
      "    plt.title('Var: ' + varname)\n",
      "    i += 1\n",
      "plt.show()"
     ],
     "language": "python",
     "metadata": {},
     "outputs": []
    },
    {
     "cell_type": "code",
     "collapsed": false,
     "input": [],
     "language": "python",
     "metadata": {},
     "outputs": []
    },
    {
     "cell_type": "code",
     "collapsed": false,
     "input": [
      "len(ts)"
     ],
     "language": "python",
     "metadata": {},
     "outputs": [
      {
       "metadata": {},
       "output_type": "pyout",
       "prompt_number": 5,
       "text": [
        "1"
       ]
      }
     ],
     "prompt_number": 5
    },
    {
     "cell_type": "code",
     "collapsed": false,
     "input": [
      "print(max(vals), min(vals))"
     ],
     "language": "python",
     "metadata": {},
     "outputs": [
      {
       "output_type": "stream",
       "stream": "stdout",
       "text": [
        "(3.35451e+17, 26.8233)\n"
       ]
      }
     ],
     "prompt_number": 5
    },
    {
     "cell_type": "code",
     "collapsed": false,
     "input": [
      "print(len(ts))"
     ],
     "language": "python",
     "metadata": {},
     "outputs": [
      {
       "output_type": "stream",
       "stream": "stdout",
       "text": [
        "66755\n"
       ]
      }
     ],
     "prompt_number": 26
    },
    {
     "cell_type": "code",
     "collapsed": false,
     "input": [
      "print(max(vals[0:46000]))"
     ],
     "language": "python",
     "metadata": {},
     "outputs": [
      {
       "output_type": "stream",
       "stream": "stdout",
       "text": [
        "171.399\n"
       ]
      }
     ],
     "prompt_number": 34
    },
    {
     "cell_type": "code",
     "collapsed": false,
     "input": [
      "plt.plot(ts[0:500], vals[0:500])\n",
      "plt.show()"
     ],
     "language": "python",
     "metadata": {},
     "outputs": []
    },
    {
     "cell_type": "code",
     "collapsed": false,
     "input": [],
     "language": "python",
     "metadata": {},
     "outputs": []
    }
   ],
   "metadata": {}
  }
 ]
}