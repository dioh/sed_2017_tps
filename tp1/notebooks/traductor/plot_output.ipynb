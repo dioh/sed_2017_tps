{
 "metadata": {
  "name": "",
  "signature": "sha256:897d95fe590b8b189aa5163ab0e19f3c89a78c448edfa426726984f5b7e45851"
 },
 "nbformat": 3,
 "nbformat_minor": 0,
 "worksheets": [
  {
   "cells": [
    {
     "cell_type": "code",
     "collapsed": false,
     "input": [
      "import re\n",
      "import matplotlib.pyplot as plt\n",
      "import random\n",
      "\n",
      "#folder = 'testModel2'\n",
      "folder = 'goodwin'\n",
      "\n",
      "\n",
      "def get_var(out_var):\n",
      "    out = []\n",
      "    def str2time(s):\n",
      "        ls = list(map(lambda x : float(x), s.split(':'))) # hh : mm : ss : ms : ???\n",
      "        return round(ls[0] * 3600 + ls[1] * 60 + ls[2] + ls[3] / 1000., 2)\n",
      "\n",
      "    with open(folder + '/output', 'r') as f:\n",
      "        for line in f:\n",
      "            line_split = line.split(' ')\n",
      "            if(line_split[1] == out_var):\n",
      "                t = str2time(line_split[0])\n",
      "                val = float(re.split(\"(\\[.+?\\])\", line_split[2])[1].replace('[', '').replace(']', ''))\n",
      "                out.append((t, val))\n",
      "    return out\n",
      "# rand_smpl = [ mylist[i] for i in sorted(random.sample(xrange(len(mylist)), 4)) ]"
     ],
     "language": "python",
     "metadata": {},
     "outputs": [],
     "prompt_number": 1
    },
    {
     "cell_type": "code",
     "collapsed": false,
     "input": [
      "out_var1 = 'out_capitalintegrator'\n",
      "out_var2 = 'out_output'\n",
      "out_var3 = 'out_populationintegrator'\n",
      "out_var4 = 'out_profit'\n",
      "out_var5 = 'out_labor'\n",
      "out_var6 = 'out_laborproductivityintegrator'"
     ],
     "language": "python",
     "metadata": {},
     "outputs": [],
     "prompt_number": 2
    },
    {
     "cell_type": "code",
     "collapsed": false,
     "input": [
      "mylist = get_var(out_var1)\n",
      "ts, vals = zip(*mylist)"
     ],
     "language": "python",
     "metadata": {},
     "outputs": [],
     "prompt_number": 3
    },
    {
     "cell_type": "code",
     "collapsed": false,
     "input": [
      "plt.plot(ts,vals)\n",
      "plt.show()"
     ],
     "language": "python",
     "metadata": {},
     "outputs": []
    },
    {
     "cell_type": "code",
     "collapsed": false,
     "input": [
      "len(ts)"
     ],
     "language": "python",
     "metadata": {},
     "outputs": [
      {
       "metadata": {},
       "output_type": "pyout",
       "prompt_number": 5,
       "text": [
        "1"
       ]
      }
     ],
     "prompt_number": 5
    },
    {
     "cell_type": "code",
     "collapsed": false,
     "input": [
      "print(max(vals), min(vals))"
     ],
     "language": "python",
     "metadata": {},
     "outputs": [
      {
       "output_type": "stream",
       "stream": "stdout",
       "text": [
        "(3.35451e+17, 26.8233)\n"
       ]
      }
     ],
     "prompt_number": 5
    },
    {
     "cell_type": "code",
     "collapsed": false,
     "input": [
      "print(len(ts))"
     ],
     "language": "python",
     "metadata": {},
     "outputs": [
      {
       "output_type": "stream",
       "stream": "stdout",
       "text": [
        "66755\n"
       ]
      }
     ],
     "prompt_number": 26
    },
    {
     "cell_type": "code",
     "collapsed": false,
     "input": [
      "print(max(vals[0:46000]))"
     ],
     "language": "python",
     "metadata": {},
     "outputs": [
      {
       "output_type": "stream",
       "stream": "stdout",
       "text": [
        "171.399\n"
       ]
      }
     ],
     "prompt_number": 34
    },
    {
     "cell_type": "code",
     "collapsed": false,
     "input": [
      "plt.plot(ts[0:500], vals[0:500])\n",
      "plt.show()"
     ],
     "language": "python",
     "metadata": {},
     "outputs": []
    },
    {
     "cell_type": "code",
     "collapsed": false,
     "input": [],
     "language": "python",
     "metadata": {},
     "outputs": []
    }
   ],
   "metadata": {}
  }
 ]
}