{
 "cells": [
  {
   "cell_type": "code",
   "execution_count": null,
   "metadata": {
    "collapsed": true
   },
   "outputs": [],
   "source": [
    "import xml.etree.ElementTree as ET\n",
    "from jinja2 import DictLoader, Environment, FileSystemLoader\n",
    "import os\n",
    "import re\n",
    "import numpy as np"
   ]
  },
  {
   "cell_type": "code",
   "execution_count": 94,
   "metadata": {
    "collapsed": true
   },
   "outputs": [],
   "source": [
    "# Parametros para funciones generadoras\n",
    "PATH = './'\n",
    "TEMPLATE_ENVIRONMENT = Environment(\n",
    "    autoescape=False,\n",
    "    loader=FileSystemLoader(os.path.join(PATH, 'templates')),\n",
    "    trim_blocks=False)\n",
    "TEMPLATE_DEVSML = 'template-devsml.xml'\n",
    "\n",
    "def render_template(template_filename, context):\n",
    "    return TEMPLATE_ENVIRONMENT.get_template(template_filename).render(context)"
   ]
  },
  {
   "cell_type": "code",
   "execution_count": 99,
   "metadata": {
    "collapsed": true
   },
   "outputs": [],
   "source": [
    "archivoXmile  = 'modelos traducidos/sir.xmile'\n",
    "archivoDevsml = 'sir/sir-devsml-traduccion-2.xml'\n",
    "\n",
    "#archivoXmile  = 'modelos traducidos/teacup.xmile'\n",
    "#archivoDevsml = 'teacup/teacup-devsml-traduccion-2.xml'"
   ]
  },
  {
   "cell_type": "code",
   "execution_count": 100,
   "metadata": {
    "collapsed": true
   },
   "outputs": [],
   "source": [
    "tree = ET.parse(archivoXmile)\n",
    "root = tree.getroot()\n",
    "\n",
    "model = root.find('model')\n",
    "variables = model.find('variables')"
   ]
  },
  {
   "cell_type": "code",
   "execution_count": 101,
   "metadata": {},
   "outputs": [
    {
     "name": "stdout",
     "output_type": "stream",
     "text": [
      "{'Susceptible': {'initialValue': 'Total Population', 'outflows': [('Succumbing', 'Infectious')], 'inflows': []}, 'Infectious': {'initialValue': '5', 'outflows': [('Recovering', 'Recovered')], 'inflows': [('Succumbing', 'Susceptible')]}, 'Recovered': {'initialValue': '0', 'outflows': [], 'inflows': [('Recovering', 'Infectious')]}}\n",
      "{'Succumbing': {'dest': 'Infectious', 'units': 'person/time', 'eqn': 'Susceptible*Infectious/Total Population*Contact Infectivity', 'params_eqn': ['Susceptible', 'Infectious', 'Total Population', 'Contact Infectivity'], 'orig': 'Susceptible'}, 'Recovering': {'dest': 'Recovered', 'units': 'person/time', 'eqn': 'Infectious/Duration', 'params_eqn': ['Infectious', 'Duration'], 'orig': 'Infectious'}}\n",
      "{}\n",
      "{'Duration': {'units': 'days', 'eqn': '5'}, 'Total Population': {'units': 'people', 'eqn': '1000'}, 'Contact Infectivity': {'units': None, 'eqn': '0.3'}}\n"
     ]
    }
   ],
   "source": [
    "flows  = variables.findall('flow')\n",
    "auxs   = variables.findall('aux')\n",
    "stocks = variables.findall('stock')\n",
    "\n",
    "flows_, auxs_, ctes_, stocks_ = {}, {}, {}, {}\n",
    "# Obtengo inflows y Outflows de cada Stock\n",
    "# Obtengo origen y destino de cada Flow\n",
    "for stock in stocks:\n",
    "    stockName = stock.get('name').replace('\"', '')\n",
    "    initialValue = stock.find('eqn').text\n",
    "    stocks_[stockName] = {'inflows' : [], 'outflows' : [], 'initialValue' : initialValue}\n",
    "    if stock.find('inflow') is not None:\n",
    "        for inflow in stock.findall('inflow'):\n",
    "            stocks_[stockName]['inflows'].append(inflow.text)\n",
    "            if inflow.text not in flows_.keys():\n",
    "                flows_[inflow.text.replace('\"', '')] = { 'orig' : None, 'dest' : stockName }\n",
    "            else:\n",
    "                flows_[inflow.text.replace('\"', '')]['dest'] = stockName\n",
    "    if stock.find('outflow') is not None:\n",
    "        for outflow in stock.findall('outflow'):\n",
    "            stocks_[stockName]['outflows'].append(outflow.text)\n",
    "            if outflow.text not in flows_.keys():\n",
    "                flows_[outflow.text.replace('\"', '')] = { 'orig' : stockName, 'dest' : None }\n",
    "            else:\n",
    "                flows_[outflow.text.replace('\"', '')]['orig'] = stockName\n",
    "\n",
    "# Genero auxs_ y ctes_\n",
    "for aux in auxs:\n",
    "    auxName = aux.get('name').replace('\"', '')\n",
    "    assert(aux.find('eqn') != None)\n",
    "    \n",
    "    if(re.search('[a-zA-Z]', aux.find('eqn').text) is None):\n",
    "        ctes_[auxName] = { 'eqn' : aux.find('eqn').text , 'units' : None }\n",
    "        if aux.find('units') is not None:\n",
    "            ctes_[auxName]['units'] = aux.find('units').text\n",
    "    else:\n",
    "        auxs_[auxName] = { 'eqn' : aux.find('eqn').text , 'units' : None }\n",
    "        if aux.find('units') is not None:\n",
    "            auxs_[auxName]['units'] = aux.find('units').text\n",
    "\n",
    "###\n",
    "# Completo informacion sobre cada Flow en 'flows_'\n",
    "for flow in flows:\n",
    "    flowName = flow.get('name').replace('\"', '')\n",
    "    flows_[flowName]['eqn'] = flow.find('eqn').text\n",
    "    flows_[flowName]['units'] = None\n",
    "    if flow.find('units') is not None:\n",
    "        flows_[flowName]['units'] = flow.find('units').text\n",
    "    flows_[flowName]['params_eqn'] = filter(lambda x : x != '', re.split(\"[()-/*]+\", flow.find('eqn').text))\n",
    "\n",
    "for stockName, attr in stocks_.iteritems():\n",
    "    for i, flow in enumerate(attr['outflows']):\n",
    "        val = stocks_[stockName]['outflows'][i].replace('\"', '')\n",
    "        stocks_[stockName]['outflows'][i] = (val, flows_[val]['dest'])\n",
    "    for i, flow in enumerate(attr['inflows']):\n",
    "        val = stocks_[stockName]['inflows'][i]\n",
    "        stocks_[stockName]['inflows'][i] = (val, flows_[val]['orig'])\n",
    "\n",
    "print stocks_\n",
    "print flows_\n",
    "print auxs_\n",
    "print ctes_\n",
    "# TODO : mejorar los puertos para Ftot's"
   ]
  },
  {
   "cell_type": "code",
   "execution_count": 102,
   "metadata": {
    "collapsed": true
   },
   "outputs": [],
   "source": [
    "context = {\n",
    "    'stocks_' : stocks_,\n",
    "    'flows_' : flows_,\n",
    "    'auxs_' : auxs_,\n",
    "    'ctes_' : ctes_\n",
    "}\n",
    "#print render_template(TEMPLATE_DEVSML,context)\n",
    "# Guardar el .devsml en output\n",
    "with open(archivoDevsml, 'w') as f:\n",
    "    f.write(render_template(TEMPLATE_DEVSML,context))"
   ]
  },
  {
   "cell_type": "code",
   "execution_count": null,
   "metadata": {
    "collapsed": true
   },
   "outputs": [],
   "source": []
  },
  {
   "cell_type": "code",
   "execution_count": null,
   "metadata": {
    "collapsed": true
   },
   "outputs": [],
   "source": []
  }
 ],
 "metadata": {
  "kernelspec": {
   "display_name": "Python 2",
   "language": "python",
   "name": "python2"
  },
  "language_info": {
   "codemirror_mode": {
    "name": "ipython",
    "version": 2
   },
   "file_extension": ".py",
   "mimetype": "text/x-python",
   "name": "python",
   "nbconvert_exporter": "python",
   "pygments_lexer": "ipython2",
   "version": "2.7.13"
  }
 },
 "nbformat": 4,
 "nbformat_minor": 2
}
