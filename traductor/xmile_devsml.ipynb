{
 "cells": [
  {
   "cell_type": "code",
   "execution_count": 6,
   "metadata": {
    "collapsed": true
   },
   "outputs": [],
   "source": [
    "import xml.etree.ElementTree as ET\n",
    "from jinja2 import DictLoader, Environment, FileSystemLoader\n",
    "import os\n",
    "import re\n",
    "import numpy as np"
   ]
  },
  {
   "cell_type": "code",
   "execution_count": 7,
   "metadata": {
    "collapsed": true
   },
   "outputs": [],
   "source": [
    "# Parametros para funciones generadoras\n",
    "PATH = './'\n",
    "TEMPLATE_ENVIRONMENT = Environment(\n",
    "    autoescape=False,\n",
    "    loader=FileSystemLoader(os.path.join(PATH, 'templates')),\n",
    "    trim_blocks=False)\n",
    "TEMPLATE_DEVSML = 'template-devsml.xml'\n",
    "\n",
    "def render_template(template_filename, context):\n",
    "    return TEMPLATE_ENVIRONMENT.get_template(template_filename).render(context)"
   ]
  },
  {
   "cell_type": "code",
   "execution_count": 16,
   "metadata": {},
   "outputs": [],
   "source": [
    "# xmile2devsml\n",
    "def xmile2devsml(archivoXmile, archivoDevsml):\n",
    "    tree = ET.parse(archivoXmile)\n",
    "    root = tree.getroot()\n",
    "\n",
    "    model = root.find('model')\n",
    "    variables = model.find('variables')\n",
    "\n",
    "    flows  = variables.findall('flow')\n",
    "    auxs   = variables.findall('aux')\n",
    "    stocks = variables.findall('stock')\n",
    "    \n",
    "    # Flows\n",
    "    flows_links = {}\n",
    "    for flow in flows:\n",
    "        function = flow.find('eqn').text.replace('\"', '')\n",
    "        params_function = filter(lambda x : x != '', re.split(\"[()-/*]+\", function))\n",
    "        params_function_lower = map(lambda x : x[0].lower() + x[1:].replace(' ', ''), params_function)\n",
    "        flows_links[flow.get('name')] = {'orig' : None, \n",
    "                                         'dest' : None, \n",
    "                                         'function' : function,\n",
    "                                         'params_function' : params_function,\n",
    "                                         'params_function_lower' : params_function_lower} \n",
    "    # Stocks\n",
    "    stocks_feed = {}\n",
    "    stockNames  = []\n",
    "    stock_values = {}\n",
    "    for stock in stocks:\n",
    "        stockName = stock.get('name')\n",
    "        stocks_feed[stockName] = {'fm' : [], 'fp' : []}\n",
    "        if stock.find('outflow') is not None:\n",
    "            flowName_out = stock.find('outflow').text.replace('\"', '')\n",
    "            flows_links[flowName_out]['orig'] = stockName\n",
    "            stocks_feed[stockName]['fm'].append(flowName_out)\n",
    "        if stock.find('inflow') is not None:\n",
    "            flowName_in = stock.find('inflow').text.replace('\"', '')\n",
    "            flows_links[flowName_in]['dest'] = stockName\n",
    "            stocks_feed[stockName]['fp'].append(flowName_in)\n",
    "\n",
    "        stockNames.append(stockName)\n",
    "        stock_values[stockName] = stock.find('eqn').text\n",
    "\n",
    "    # En base a los flows, actualizo 'function' en flow_links\n",
    "    for linkName, attr in flows_links.iteritems():\n",
    "        for stockName in stockNames:\n",
    "            if stockName in attr['function']:\n",
    "                attr['function'] = attr['function'].replace(stockName, stockName + ' Integrator')\n",
    "        \n",
    "    # Aux's\n",
    "    aux_values = {}\n",
    "    for aux in auxs:\n",
    "        aux_values[aux.get('name')] = aux.find('eqn').text\n",
    "\n",
    "    # Normalizacion de stock_values segun los valores de los aux's\n",
    "    for stockName, val in stock_values.iteritems():\n",
    "        if not val.isdigit():\n",
    "            stock_values[stockName] = aux_values[val]\n",
    "\n",
    "    #print '*stockNames:',stockNames\n",
    "    #print '*stock_values:',stock_values\n",
    "    #print '*flows_links:',flows_links\n",
    "    #print '*params_function:',params_function\n",
    "    #print '*params_function_lower:',params_function_lower\n",
    "    #print '*aux_values:',aux_values\n",
    "    #print '*stocks_feed:',stocks_feed\n",
    "    \n",
    "    context = {\n",
    "        'stockNames' : stockNames,\n",
    "        'stock_values' : stock_values,\n",
    "        'flows_links' : flows_links,\n",
    "        'params_function' : params_function,\n",
    "        'params_function_lower' : params_function_lower,\n",
    "        'aux_values' : aux_values,\n",
    "        'stocks_feed' : stocks_feed\n",
    "    }\n",
    "    \n",
    "    # Guardar el .devsml en output\n",
    "    with open(archivoDevsml, 'w') as f:\n",
    "        f.write(render_template(TEMPLATE_DEVSML,context))"
   ]
  },
  {
   "cell_type": "code",
   "execution_count": 18,
   "metadata": {},
   "outputs": [],
   "source": [
    "archivoXmile  = 'modelos traducidos/sir.xmile'\n",
    "archivoDevsml = 'sir/sir-devsml-traduccion.xml'\n",
    "xmile2devsml(archivoXmile, archivoDevsml)\n",
    "\n",
    "archivoXmile  = 'modelos traducidos/teacup.xmile'\n",
    "archivoDevsml = 'teacup/teacup-devsml-traduccion.xml'\n",
    "xmile2devsml(archivoXmile, archivoDevsml)"
   ]
  },
  {
   "cell_type": "code",
   "execution_count": null,
   "metadata": {
    "collapsed": true
   },
   "outputs": [],
   "source": []
  },
  {
   "cell_type": "code",
   "execution_count": null,
   "metadata": {
    "collapsed": true
   },
   "outputs": [],
   "source": []
  }
 ],
 "metadata": {
  "kernelspec": {
   "display_name": "Python 2",
   "language": "python",
   "name": "python2"
  },
  "language_info": {
   "codemirror_mode": {
    "name": "ipython",
    "version": 2
   },
   "file_extension": ".py",
   "mimetype": "text/x-python",
   "name": "python",
   "nbconvert_exporter": "python",
   "pygments_lexer": "ipython2",
   "version": "2.7.13"
  }
 },
 "nbformat": 4,
 "nbformat_minor": 1
}
