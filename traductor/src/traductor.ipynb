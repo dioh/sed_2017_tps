{
 "cells": [
  {
   "cell_type": "code",
   "execution_count": 2,
   "metadata": {},
   "outputs": [],
   "source": [
    "from jinja2 import DictLoader, Environment, FileSystemLoader\n",
    "#from lxml.etree import DTD\n",
    "import os"
   ]
  },
  {
   "cell_type": "code",
   "execution_count": 3,
   "metadata": {
    "collapsed": true
   },
   "outputs": [],
   "source": [
    "# Parametros para funciones generadoras\n",
    "PATH = './'\n",
    "TEMPLATE_ENVIRONMENT = Environment(\n",
    "    autoescape=False,\n",
    "    loader=FileSystemLoader(os.path.join(PATH, 'templates')),\n",
    "    trim_blocks=False)\n",
    "\n",
    "def render_template(template_filename, context):\n",
    "    return TEMPLATE_ENVIRONMENT.get_template(template_filename).render(context)"
   ]
  },
  {
   "cell_type": "code",
   "execution_count": 4,
   "metadata": {
    "collapsed": true
   },
   "outputs": [],
   "source": [
    "# Defino funciones generadoras de codigo\n",
    "# \n",
    "def generateF(template, fType, stock, variables, formula):\n",
    "    # Nota: explicacion de parametros que toma generateF ==>\n",
    "    # template : nombre del template a utilizar (debe haber un .cpp y un .h con este nombre)\n",
    "    # fType : 'fPlus' o 'fMinus' son los dos tipos de funciones que se pueden declarar\n",
    "    # stock : nombre del 'stock' asociado a esta funcion (el nombre de la variable que esta siendo integrada)\n",
    "    # variables : nombres de las variables de estado utilizadas en la funcion\n",
    "    # formula : formula de la outputFunction, que utiliza las variables de estado del atomico\n",
    "    \n",
    "    # Template names\n",
    "    templateH   = template + '.h'\n",
    "    templateCPP = template + '.cpp'\n",
    "    \n",
    "    # Derived parameters for template\n",
    "    stockName = fType + stock[0].upper() + stock[1:]\n",
    "    stockNameConstant = stockName.upper()\n",
    "    setVariables  = list(map(lambda var : 'isSet' + var[0].upper() + var[1:], variables))\n",
    "    inPorts       = list(map(lambda var : 'in' + var[0].upper() + var[1:], variables))\n",
    "    context = {\n",
    "        'stockName' : stockName,\n",
    "        'stockNameConstant' : stockNameConstant,\n",
    "        'variables' : variables,\n",
    "        'setVariables' : setVariables,\n",
    "        'inPorts' : inPorts,\n",
    "        'formula' : formula\n",
    "    }\n",
    "    hFile = render_template(templateH, context)\n",
    "    cppFile = render_template(templateCPP, context)\n",
    "    return {\"h\" : hFile, \"cpp\" : cppFile}\n",
    "\n",
    "def generateReg(template, stockNames):\n",
    "    stockNamesConstant = list(map(lambda var : var.upper(), stockNames))\n",
    "    templateCPP = template + '.cpp'\n",
    "    context = { 'stockNames' : stockNames, 'stockNamesConstant' : stockNamesConstant }\n",
    "    cppFile = render_template(templateCPP, context)\n",
    "    return cppFile\n",
    "\n",
    "def generateFiles(folder, atomics):\n",
    "    for atomic in atomics:\n",
    "        f = generateF(atomic[0], atomic[1], atomic[2], atomic[3], atomic[4])\n",
    "        hFile   = f['h']\n",
    "        cppFile = f['cpp']\n",
    "        # Genero hFile y cppFile\n",
    "        with open(folder + '/' + atomic[1] + atomic[2][0].upper() + atomic[2][1:] + '.h', 'w') as f:\n",
    "            f.write(hFile)\n",
    "        with open(folder + '/' + atomic[1] + atomic[2][0].upper() + atomic[2][1:] + '.cpp', 'w') as f:\n",
    "            f.write(cppFile)\n",
    "    # Genero 'reg.cpp'\n",
    "    atomicNames = [atomic[1] + atomic[2][0].upper() + atomic[2][1:] for atomic in atomics]\n",
    "    regFile = generateReg('reg', atomicNames)\n",
    "    with open(folder + '/reg.cpp', 'w') as f:\n",
    "        f.write(regFile)"
   ]
  },
  {
   "cell_type": "code",
   "execution_count": 5,
   "metadata": {
    "collapsed": true
   },
   "outputs": [],
   "source": [
    "# Nota : 'Fpm' se refiera a (Fplus + Fminus)\n",
    "# TODO : matchear el llamado a estas funciones con los archivos .devsml y coordinar con el .ma\n",
    "# Teacup\n",
    "atomicsTeacup = [\n",
    "    ['Fpm', 'Fminus', 'teacupTemperature', ['teacupTemperature', 'characteristicTime', 'roomTemperature'], \n",
    "     '(teacupTemperature - roomTemperature) / characteristicTime']\n",
    "]\n",
    "generateFiles('teacup', atomicsTeacup)\n",
    "\n",
    "# Lotka-volterra\n",
    "atomicsLV = [\n",
    "    ['Fpm', 'Fminus', 'lynx', ['lynx', 'lynxDeathRate'], 'lynxDeathRate * lynx'],\n",
    "    ['Fpm', 'Fplus',  'lynx', ['lynx', 'hares', 'lynxBirthRate'], 'lynxBirthRate * lynx * hares'],\n",
    "    ['Fpm', 'Fminus', 'hares', ['hares', 'lynx', 'hareDeathRate'], 'hareDeathRate * hares * lynx'],\n",
    "    ['Fpm', 'Fplus',  'hares', ['hares', 'hareBirthRate'], 'hareBirthRate * hares']\n",
    "]\n",
    "generateFiles('lotka-volterra', atomicsLV)\n",
    "\n",
    "# SIR\n",
    "atomicsSIR = [\n",
    "    ['Fpm', 'Fminus', 'infected', ['infected', 'duration'], 'infected / duration'],\n",
    "    ['Fpm', 'Fplus',  'infected', ['infected', 'susceptible', 'contactInfectivity', 'totalPopulation'],\n",
    "     '(infected * susceptible) / (contactInfectivity * totalPopulation)'],\n",
    "    ['Fpm', 'Fminus', 'susceptible', ['susceptible', 'infected', 'contactInfectivity', 'totalPopulation'],\n",
    "     '(infected * susceptible) / (contactInfectivity * totalPopulation)'],\n",
    "    ['Fpm', 'Fplus',  'recovered', ['infected', 'duration'], 'infected / duration']\n",
    "]\n",
    "generateFiles('SIR', atomicsSIR)"
   ]
  },
  {
   "cell_type": "code",
   "execution_count": 172,
   "metadata": {
    "collapsed": true
   },
   "outputs": [],
   "source": []
  },
  {
   "cell_type": "code",
   "execution_count": 173,
   "metadata": {
    "collapsed": true
   },
   "outputs": [],
   "source": []
  },
  {
   "cell_type": "code",
   "execution_count": 184,
   "metadata": {
    "collapsed": true
   },
   "outputs": [],
   "source": []
  },
  {
   "cell_type": "code",
   "execution_count": 188,
   "metadata": {
    "collapsed": true
   },
   "outputs": [],
   "source": [
    "# Examples:\n",
    "\n",
    "# 0) Register atomic models\n",
    "#print(generateReg('reg', ['FplusLynx', 'FminusLynx']))\n",
    "\n",
    "# 1) Teacup\n",
    "#print(generateF('Fpm', 'Fminus', 'teacup', ['teacupTemperature', 'characteristicTime', 'roomTemperature'], \n",
    "#                '(teacupTemperature - roomTemperature) / characteristicTime')['h'])\n",
    "#print(generateF('Fpm', 'Fminus', 'teacup', ['teacupTemperature', 'characteristicTime', 'roomTemperature'], \n",
    "#                '(teacupTemperature - roomTemperature) / characteristicTime')['cpp'])\n",
    "\n",
    "# 2) Lotka-Volterra\n",
    "# Lynx\n",
    "#print(generateF('Fpm', 'Fminus', 'lynx', ['lynx', 'lynxDeathRate'], 'lynxDeathRate * lynx')['h'])\n",
    "#print(generateF('Fpm', 'Fminus', 'lynx', ['lynx', 'lynxDeathRate'], 'lynxDeathRate * lynx')['cpp'])\n",
    "#print(generateF('Fpm', 'Fplus', 'lynx', ['lynx', 'hares', 'lynxBirthRate'], 'lynxBirthRate * lynx * hares')['h'])\n",
    "#print(generateF('Fpm', 'Fplus', 'lynx', ['lynx', 'hares', 'lynxBirthRate'], 'lynxBirthRate * lynx * hares')['cpp'])\n",
    "\n",
    "# Hares\n",
    "#print(generateF('Fpm', 'Fminus', 'hares', ['hares', 'lynx', 'hareDeathRate'], 'hareDeathRate * hares * lynx')['h'])\n",
    "#print(generateF('Fpm', 'Fminus', 'hares', ['hares', 'lynx', 'hareDeathRate'], 'hareDeathRate * hares * lynx')['cpp'])\n",
    "#print(generateF('Fpm', 'Fplus', 'hares', ['hares', 'hareBirthRate'], 'hareBirthRate * hares')['h'])\n",
    "#print(generateF('Fpm', 'Fplus', 'hares', ['hares', 'hareBirthRate'], 'hareBirthRate * hares')['cpp'])\n",
    "\n",
    "# 3) SIR\n",
    "# Infected\n",
    "#print(generateF('Fpm', 'Fminus', 'infected', ['infected', 'duration'], 'infected / duration')['h'])\n",
    "#print(generateF('Fpm', 'Fminus', 'infected', ['infected', 'duration'], 'infected / duration')['cpp'])\n",
    "#print(generateF('Fpm', 'Fplus', 'infected', ['infected', 'susceptible', 'contactInfectivity', 'totalPopulation'],\n",
    "#                '(infected * susceptible) / (contactInfectivity * totalPopulation)')['h'])\n",
    "#print(generateF('Fpm', 'Fplus', 'infected', ['infected', 'susceptible', 'contactInfectivity', 'totalPopulation'],\n",
    "#                '(infected * susceptible) / (contactInfectivity * totalPopulation)')['cpp'])\n",
    "\n",
    "# Susceptible\n",
    "#print(generateF('Fpm', 'Fminus', 'susceptible', ['susceptible', 'infected', 'contactInfectivity', 'totalPopulation'],\n",
    "#                '(infected * susceptible) / (contactInfectivity * totalPopulation)')['h'])\n",
    "#print(generateF('Fpm', 'Fminus', 'susceptible', ['susceptible', 'infected', 'contactInfectivity', 'totalPopulation'],\n",
    "#                '(infected * susceptible) / (contactInfectivity * totalPopulation)')['cpp'])\n",
    "\n",
    "# Recovered\n",
    "#print(generateF('Fpm', 'Fplus', 'recovered', ['infected', 'duration'], 'infected / duration')['h'])\n",
    "#print(generateF('Fpm', 'Fplus', 'recovered', ['infected', 'duration'], 'infected / duration')['cpp'])"
   ]
  }
 ],
 "metadata": {
  "kernelspec": {
   "display_name": "Python 3",
   "language": "python",
   "name": "python3"
  },
  "language_info": {
   "codemirror_mode": {
    "name": "ipython",
    "version": 3
   },
   "file_extension": ".py",
   "mimetype": "text/x-python",
   "name": "python",
   "nbconvert_exporter": "python",
   "pygments_lexer": "ipython3",
   "version": "3.6.0"
  }
 },
 "nbformat": 4,
 "nbformat_minor": 1
}
