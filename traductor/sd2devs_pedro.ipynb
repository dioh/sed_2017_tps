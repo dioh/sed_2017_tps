{
 "metadata": {
  "name": "",
  "signature": "sha256:aa7556d4628bcbaf6f50b0240608d0eb8b4fc920908cc9887dce42f3da738ac4"
 },
 "nbformat": 3,
 "nbformat_minor": 0,
 "worksheets": [
  {
   "cells": [
    {
     "cell_type": "code",
     "collapsed": false,
     "input": [
      "#\n",
      "\n",
      "\n",
      "\n"
     ],
     "language": "python",
     "metadata": {},
     "outputs": [],
     "prompt_number": 1
    }
   ],
   "metadata": {}
  }
 ]
}