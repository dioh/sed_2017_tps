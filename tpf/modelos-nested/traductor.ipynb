{
 "cells": [
  {
   "cell_type": "code",
   "execution_count": 1,
   "metadata": {},
   "outputs": [
    {
     "name": "stdout",
     "output_type": "stream",
     "text": [
      "top\n",
      "PredatorModel\n",
      "PreyModel\n",
      "PreySubModel\n",
      "PreySubSubModel\n"
     ]
    }
   ],
   "source": [
    "import sys\n",
    "import os\n",
    "\n",
    "debug = False\n",
    "\n",
    "cwd = os.getcwd()\n",
    "if cwd not in sys.path:\n",
    "    sys.path.append(cwd)\n",
    "\n",
    "import xml.etree.ElementTree as etree\n",
    "from modulosXMILE.Model import *\n",
    "\n",
    "source_xmlns = \"{http://docs.oasis-open.org/xmile/ns/XMILE/v1.0}\" \n",
    "source_xmlns_isee = \"{http://iseesystems.com/XMILE}\"\n",
    "\n",
    "DIR_XMILE       = 'lotka-volterra-nested/lotka-volterra-nested-2.xmile'\n",
    "###################################################################################################################\n",
    "parser = etree.XMLParser(encoding=\"utf-8\")\n",
    "with open(DIR_XMILE, 'r') as xml_file:\n",
    "    xml_tree = etree.parse(xml_file, parser=parser)\n",
    "root = xml_tree.getroot()\n",
    "models = root.findall(source_xmlns + 'model')\n",
    "models_parsed = list(map(lambda x : Model(x, debug), models))\n",
    "for model in models_parsed:\n",
    "    print model.getName()"
   ]
  },
  {
   "cell_type": "code",
   "execution_count": 2,
   "metadata": {},
   "outputs": [],
   "source": [
    "from jinja2 import DictLoader, Environment, FileSystemLoader\n",
    "import os\n",
    "PATH = './'\n",
    "TEMPLATE_ENVIRONMENT = Environment(\n",
    "    autoescape=False,\n",
    "    loader=FileSystemLoader(os.path.join(PATH, 'templates')),\n",
    "    trim_blocks=False)\n",
    "def render_template(template_filename, context):\n",
    "    return TEMPLATE_ENVIRONMENT.get_template(template_filename).render(context)\n",
    "devsml_template_filename = 'template-devsml.xml'"
   ]
  },
  {
   "cell_type": "markdown",
   "metadata": {},
   "source": [
    "# Clases DEVS"
   ]
  },
  {
   "cell_type": "code",
   "execution_count": 3,
   "metadata": {},
   "outputs": [],
   "source": [
    "### TODO : Constant, Aux, Integrator, Ftot y Fpm podrian ser subclase de DEVSAtomicComponent\n",
    "from modulosDEVS.DEVSCoupledComponent import *"
   ]
  },
  {
   "cell_type": "code",
   "execution_count": 8,
   "metadata": {
    "scrolled": false
   },
   "outputs": [
    {
     "name": "stdout",
     "output_type": "stream",
     "text": [
      "DEVS_COUPLED_top\n",
      "DEVS_COUPLED_PredatorModel\n",
      "DEVS_BASIC_COUPLED_Predator_Prey_hunter\n",
      "DEVS_COUPLED_PreyModel\n",
      "<!-- Acoplado : DEVS_COUPLED_PreyModel -->\n",
      "<coupled name=\"DEVS_COUPLED_PreyModel\" model=\"Coupled\" >\n",
      "\n",
      "<!-- Inputs -->\n",
      "<inputs>\n",
      "</inputs>\n",
      "\n",
      "<!-- Outputs -->\n",
      "<outputs>\n",
      "</outputs>\n",
      "\n",
      "<!-- Components -->\n",
      "<components>\n",
      "<!-- Atomico : paramB -->\n",
      "<atomicRef name=\"paramB\" type=\"DEVSConstant\">\n",
      "</atomicRef>\n",
      "<!-- Atomico : paramA -->\n",
      "<atomicRef name=\"paramA\" type=\"DEVSConstant\">\n",
      "</atomicRef>\n",
      "__INCLUDE__DEVS_COUPLED_PreySubModel\n",
      "__INCLUDE__DEVS_BASIC_COUPLED_Prey_Predator_PreySubModelStock_PreySubSubModelStock\n",
      "</components>\n",
      "\n",
      "<!-- Internal Connections -->\n",
      "<internal_connections>\n",
      "\n",
      "</internal_connections>\n",
      "\n",
      "<!-- External Input Connections -->\n",
      "<external_input_connections>\n",
      "\n",
      "</external_input_connections>\n",
      "\n",
      "<!-- External Output Connections -->\n",
      "<external_output_connections>\n",
      "\n",
      "</external_output_connections>\n",
      "\n",
      "</coupled>\n",
      "DEVS_COUPLED_PreySubModel\n",
      "DEVS_COUPLED_PreySubSubModel\n",
      "DEVS_BASIC_COUPLED_PreySubSubModelStock\n",
      "DEVS_BASIC_COUPLED_PreySubModelStock_Prey_PreySubSubModelStock\n",
      "DEVS_BASIC_COUPLED_Prey_Predator_PreySubModelStock_PreySubSubModelStock\n",
      "DEVS_BASIC_COUPLED_hunter\n"
     ]
    }
   ],
   "source": [
    "topModel = models_parsed[0]\n",
    "dm = DEVSCoupledComponent(topModel, models_parsed)\n",
    "\n",
    "def traverse(dm):\n",
    "    name = dm.getName()\n",
    "    print name\n",
    "    ccs = dm.getDEVSCoupledComponents()\n",
    "    \n",
    "    # Genero xml\n",
    "    # PredatorModel, PreyModel, PreySubModel, PreySubSubModel\n",
    "    if name == 'DEVS_COUPLED_PreyModel':\n",
    "        dst_filename = name + '.xml'\n",
    "        context = {\n",
    "            'coupled_name' : name,\n",
    "            'coupled_filenames' : list(map(lambda x : x.getName(), ccs)),\n",
    "            'atomics' : dm.getDEVSAtomicComponents(),\n",
    "            'internal_connections' : [],\n",
    "            'external_input_connections' : [],\n",
    "            'external_output_connections' : []\n",
    "        }\n",
    "        tmpl = render_template(devsml_template_filename, context)\n",
    "        print tmpl\n",
    "        \n",
    "        # TODO : guardar el xml\n",
    "        \n",
    "    # Recursion\n",
    "    for cc in ccs:\n",
    "        traverse(cc)\n",
    "traverse(dm)\n",
    "\n",
    "# TODO : fusionar todos los xml generados en la funcion 'traverse'"
   ]
  },
  {
   "cell_type": "code",
   "execution_count": null,
   "metadata": {},
   "outputs": [],
   "source": []
  }
 ],
 "metadata": {
  "kernelspec": {
   "display_name": "Python 2",
   "language": "python",
   "name": "python2"
  },
  "language_info": {
   "codemirror_mode": {
    "name": "ipython",
    "version": 2
   },
   "file_extension": ".py",
   "mimetype": "text/x-python",
   "name": "python",
   "nbconvert_exporter": "python",
   "pygments_lexer": "ipython2",
   "version": "2.7.12"
  }
 },
 "nbformat": 4,
 "nbformat_minor": 2
}
