{
 "cells": [
  {
   "cell_type": "code",
   "execution_count": 1,
   "metadata": {},
   "outputs": [
    {
     "name": "stdout",
     "output_type": "stream",
     "text": [
      "top\n",
      "PredatorModel\n",
      "PreyModel\n",
      "PreySubModel\n",
      "PreySubSubModel\n"
     ]
    }
   ],
   "source": [
    "import sys\n",
    "import os\n",
    "\n",
    "debug = False\n",
    "\n",
    "cwd = os.getcwd()\n",
    "if cwd not in sys.path:\n",
    "    sys.path.append(cwd)\n",
    "\n",
    "import xml.etree.ElementTree as etree\n",
    "from modulosXMILE.Model import *\n",
    "\n",
    "source_xmlns = \"{http://docs.oasis-open.org/xmile/ns/XMILE/v1.0}\" \n",
    "source_xmlns_isee = \"{http://iseesystems.com/XMILE}\"\n",
    "\n",
    "DIR_XMILE       = 'lotka-volterra-nested/lotka-volterra-nested-2.xmile'\n",
    "###################################################################################################################\n",
    "parser = etree.XMLParser(encoding=\"utf-8\")\n",
    "with open(DIR_XMILE, 'r') as xml_file:\n",
    "    xml_tree = etree.parse(xml_file, parser=parser)\n",
    "root = xml_tree.getroot()\n",
    "models = root.findall(source_xmlns + 'model')\n",
    "models_parsed = list(map(lambda x : Model(x, debug), models))\n",
    "for model in models_parsed:\n",
    "    print model.getName()"
   ]
  },
  {
   "cell_type": "code",
   "execution_count": 2,
   "metadata": {},
   "outputs": [],
   "source": [
    "from jinja2 import DictLoader, Environment, FileSystemLoader\n",
    "import os\n",
    "PATH = './'\n",
    "TEMPLATE_ENVIRONMENT = Environment(\n",
    "    autoescape=False,\n",
    "    loader=FileSystemLoader(os.path.join(PATH, 'templates')),\n",
    "    trim_blocks=False)\n",
    "def render_template(template_filename, context):\n",
    "    return TEMPLATE_ENVIRONMENT.get_template(template_filename).render(context)\n",
    "devsml_template_filename = 'template-devsml.xml'"
   ]
  },
  {
   "cell_type": "markdown",
   "metadata": {},
   "source": [
    "# Clases DEVS"
   ]
  },
  {
   "cell_type": "code",
   "execution_count": 3,
   "metadata": {},
   "outputs": [],
   "source": [
    "### TODO : Constant, Aux, Integrator, Ftot y Fpm podrian ser subclase de DEVSAtomicComponent\n",
    "from modulosDEVS.DEVSCoupledComponent import *"
   ]
  },
  {
   "cell_type": "code",
   "execution_count": 131,
   "metadata": {
    "scrolled": false
   },
   "outputs": [
    {
     "name": "stdout",
     "output_type": "stream",
     "text": [
      "DEVS_COUPLED_top\n",
      "DEVS_COUPLED_PredatorModel\n",
      "DEVS_BASIC_COUPLED_Predator_Prey_hunter\n",
      "DEVS_COUPLED_PreyModel\n",
      "DEVS_COUPLED_PreySubModel\n",
      "DEVS_COUPLED_PreySubSubModel\n",
      "DEVS_BASIC_COUPLED_PreySubSubModelStock\n",
      "DEVS_BASIC_COUPLED_PreySubModelStock_Prey_PreySubSubModelStock\n",
      "DEVS_BASIC_COUPLED_Prey_Predator_PreySubModelStock_PreySubSubModelStock\n",
      "DEVS_BASIC_COUPLED_hunter\n"
     ]
    }
   ],
   "source": [
    "topModel = models_parsed[0]\n",
    "dm = DEVSCoupledComponent(topModel, models_parsed)\n",
    "\n",
    "def traverse(dm):\n",
    "    name = dm.getName()\n",
    "    dst_filename = name\n",
    "    print name    \n",
    "    \n",
    "    ccs = dm.getDEVSCoupledComponents()\n",
    "    ccs_names = []\n",
    "    \n",
    "    # Recursion\n",
    "    for cc in ccs:\n",
    "        traverse(cc)\n",
    "        ccs_names.append(cc.getName())\n",
    "\n",
    "    # Genero xml\n",
    "    context = {\n",
    "        'coupled_name' : name,\n",
    "        'coupled_filenames' : ccs_names,\n",
    "        'atomics'           : dm.getDEVSAtomicComponents(),\n",
    "        'internal_connections'        : [],\n",
    "        'external_input_connections'  : [],\n",
    "        'external_output_connections' : []\n",
    "    }\n",
    "    coupled_xml = render_template(devsml_template_filename, context)\n",
    "        \n",
    "    # Cargo los 'include' del modelo\n",
    "    from xml.etree import ElementTree as et\n",
    "    from xml.etree  import ElementTree\n",
    "    tree = et.fromstring(coupled_xml)\n",
    "    includes = tree.findall('.//include')\n",
    "    \n",
    "    for include in includes:\n",
    "        include_filename = include.get('filename')\n",
    "        include_tree = et.parse(include_filename)\n",
    "\n",
    "        for element in tree.iter():\n",
    "            if element.tag == 'include' and element.get('filename') == include_filename:\n",
    "                tree.append(include_tree.getroot())\n",
    "    \n",
    "    tree2 = et.tostring(tree)\n",
    "    with open(dst_filename, 'wb') as f:\n",
    "        f.write(tree2)\n",
    "    \n",
    "    # TODO : borrar archivos que no son el top\n",
    "\n",
    "traverse(dm)\n",
    "\n",
    "from xml.dom import minidom\n",
    "# TODO : Parsear DEVS_COUPLED_top y escribirlo en un nuevo archivo de forma 'pretty'\n",
    "# https://stackoverflow.com/questions/28813876/how-do-i-get-pythons-elementtree-to-pretty-print-to-an-xml-file/28814053\n",
    "\n"
   ]
  },
  {
   "cell_type": "code",
   "execution_count": null,
   "metadata": {},
   "outputs": [],
   "source": []
  }
 ],
 "metadata": {
  "kernelspec": {
   "display_name": "Python 2",
   "language": "python",
   "name": "python2"
  },
  "language_info": {
   "codemirror_mode": {
    "name": "ipython",
    "version": 2
   },
   "file_extension": ".py",
   "mimetype": "text/x-python",
   "name": "python",
   "nbconvert_exporter": "python",
   "pygments_lexer": "ipython2",
   "version": "2.7.12"
  }
 },
 "nbformat": 4,
 "nbformat_minor": 2
}
