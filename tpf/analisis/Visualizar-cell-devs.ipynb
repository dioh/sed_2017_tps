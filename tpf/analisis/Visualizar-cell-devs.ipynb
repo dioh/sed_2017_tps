{
 "cells": [
  {
   "cell_type": "code",
   "execution_count": 1,
   "metadata": {},
   "outputs": [],
   "source": [
    "%matplotlib inline\n",
    "import seaborn as sns\n",
    "import numpy as np\n",
    "import re"
   ]
  },
  {
   "cell_type": "code",
   "execution_count": 2,
   "metadata": {},
   "outputs": [],
   "source": [
    "def str2time(s):\n",
    "        ls = list(map(lambda x : float(x), s.split(':'))) # hh : mm : ss : ms : ???\n",
    "\n",
    "        return round(ls[0] * 3600 + ls[1] * 60 + ls[2] + ls[3] / 1000., 2)"
   ]
  },
  {
   "cell_type": "code",
   "execution_count": 24,
   "metadata": {},
   "outputs": [],
   "source": [
    "def get_evolution_from_log():\n",
    "    evolution = [[[]] * M for i in range(0,N)]\n",
    "\n",
    "    max_time = 0.\n",
    "    max_val = 0.\n",
    "\n",
    "    for ln in open(filename,\"r\").readlines():\n",
    "        if ln.startswith(\"0 / L / Y /\"):\n",
    "\n",
    "            time = re.compile(r\"\\d+:\\d+:\\d+:\\d+:\\d+[\\.\\d+]*\").search(ln.split('/')[3]).group(0)\n",
    "            cell = re.compile(NOMBRE_MODELO_CELL_DEVS + \"\\(\\d+,\\d+,0\\)\").findall(ln)\n",
    "            val  = re.compile(r\"-*\\d+[\\.\\d+]*\").search(ln.split('/')[6]).group(0)\n",
    "\n",
    "            if len(cell) == 0:\n",
    "                continue\n",
    "            cell = cell[0]\n",
    "            coord = re.search(re.compile(r\"\\(.*,.*,0\\)\"), cell).group(0)[1:-1].split(',')\n",
    "            i, j = int(coord[0]), int(coord[1])\n",
    "            evolution[i][j].append({\n",
    "                \"time\" : time,\n",
    "                \"time_converted\" : str2time(time),\n",
    "                \"val\" : float(val)\n",
    "            })\n",
    "            max_time = max(max_time, str2time(time))\n",
    "            max_val = max(max_val, val)\n",
    "\n",
    "    return evolution, max_time"
   ]
  },
  {
   "cell_type": "code",
   "execution_count": 25,
   "metadata": {},
   "outputs": [],
   "source": [
    "def get_cut_values(ev, pts):\n",
    "    res = []\n",
    "    i, j = 0, 0\n",
    "    while i < len(ev)-1:\n",
    "        if (ev[i]['time_converted'] <= pts[j] and ev[i+1]['time_converted'] > pts[j]) \\\n",
    "            or ev[i]['time_converted'] > pts[j]:\n",
    "            res.append({\n",
    "                'time' : pts[j], \n",
    "                'interval' : (ev[i]['time_converted'], ev[i+1]['time_converted']),\n",
    "                'value' : ev[i]['val']\n",
    "            })\n",
    "            j = j+1        \n",
    "        else:\n",
    "            i = i + 1\n",
    "    while j < len(pts):\n",
    "        res.append({\n",
    "            'time' : pts[j],\n",
    "            'interval' : (ev[i-1]['time_converted'], ev[i]['time_converted']),\n",
    "            'value' : ev[i]['val']\n",
    "        })\n",
    "        j = j+1  \n",
    "    return res"
   ]
  },
  {
   "cell_type": "markdown",
   "metadata": {},
   "source": [
    "# Ejemplos"
   ]
  },
  {
   "cell_type": "code",
   "execution_count": 26,
   "metadata": {},
   "outputs": [],
   "source": [
    "# PARAMS\n",
    "NOMBRE_EXPERIMENTO = 'exp_pedro_6'\n",
    "NOMBRE_CARPETA = '100_1_0.8_0.1_0.1'\n",
    "NOMBRE_ARCHIVO = 'new_log_valfile_exp_00.log'\n",
    "NOMBRE_MODELO_CELL_DEVS = 'opinion'\n",
    "\n",
    "MODELO = 'opinion-goodwin-minsky'\n",
    "\n",
    "filename = '../modelos/' + NOMBRE_MODELO_CELL_DEVS + '/' + MODELO + '/experimentos/' \\\n",
    "            + NOMBRE_EXPERIMENTO + '/' + NOMBRE_CARPETA \\\n",
    "            +'/result_logs/' + NOMBRE_ARCHIVO\n",
    "\n",
    "# Parametros\n",
    "N = 10\n",
    "M = 10\n",
    "\n",
    "# Cantidad de instantes en los que quiero conocer el valor exacto de cada celda\n",
    "n_cuts = 100"
   ]
  },
  {
   "cell_type": "code",
   "execution_count": 28,
   "metadata": {},
   "outputs": [],
   "source": [
    "evolution, max_time = get_evolution_from_log()\n",
    "evolution_values = [[[]] * M for i in range(0,N)]\n",
    "\n",
    "pts = np.linspace(0,max_time, n_cuts)\n",
    "\n",
    "for i in range(0,N):\n",
    "    for j in range(0,M):\n",
    "        evolution_values[i][j] = get_cut_values(evolution[i][j], pts)"
   ]
  },
  {
   "cell_type": "code",
   "execution_count": 40,
   "metadata": {},
   "outputs": [],
   "source": [
    "# Enter cell to plot evolution\n",
    "i, j = 0,1\n",
    "\n",
    "# Test example\n",
    "x = list(map(lambda x : x['time'], evolution_values[i][j]))\n",
    "y = list(map(lambda x : x['value'], evolution_values[i][j]))"
   ]
  },
  {
   "cell_type": "code",
   "execution_count": 41,
   "metadata": {},
   "outputs": [
    {
     "data": {
      "image/png": "[encoded data removed]",
      "text/plain": [
       "<matplotlib.figure.Figure at 0x7f0bbc1bd5d0>"
      ]
     },
     "metadata": {},
     "output_type": "display_data"
    }
   ],
   "source": [
    "sns.set_style(\"darkgrid\")\n",
    "ax = sns.pointplot(x=x, y=y)"
   ]
  },
  {
   "cell_type": "code",
   "execution_count": null,
   "metadata": {},
   "outputs": [],
   "source": []
  },
  {
   "cell_type": "code",
   "execution_count": null,
   "metadata": {},
   "outputs": [],
   "source": []
  },
  {
   "cell_type": "code",
   "execution_count": null,
   "metadata": {},
   "outputs": [],
   "source": []
  },
  {
   "cell_type": "code",
   "execution_count": null,
   "metadata": {},
   "outputs": [],
   "source": []
  },
  {
   "cell_type": "code",
   "execution_count": null,
   "metadata": {},
   "outputs": [],
   "source": []
  }
 ],
 "metadata": {
  "kernelspec": {
   "display_name": "Python 2",
   "language": "python",
   "name": "python2"
  },
  "language_info": {
   "codemirror_mode": {
    "name": "ipython",
    "version": 2
   },
   "file_extension": ".py",
   "mimetype": "text/x-python",
   "name": "python",
   "nbconvert_exporter": "python",
   "pygments_lexer": "ipython2",
   "version": "2.7.12"
  }
 },
 "nbformat": 4,
 "nbformat_minor": 2
}
