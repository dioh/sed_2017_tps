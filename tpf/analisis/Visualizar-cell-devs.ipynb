{
 "cells": [
  {
   "cell_type": "code",
   "execution_count": 1,
   "metadata": {},
   "outputs": [],
   "source": [
    "%matplotlib inline\n",
    "import seaborn as sns\n",
    "import numpy as np\n",
    "import re"
   ]
  },
  {
   "cell_type": "code",
   "execution_count": 2,
   "metadata": {},
   "outputs": [],
   "source": [
    "def str2time(s):\n",
    "        ls = list(map(lambda x : float(x), s.split(':'))) # hh : mm : ss : ms : ???\n",
    "\n",
    "        return round(ls[0] * 3600 + ls[1] * 60 + ls[2] + ls[3] / 1000., 2)"
   ]
  },
  {
   "cell_type": "code",
   "execution_count": 3,
   "metadata": {},
   "outputs": [],
   "source": [
    "def get_evolution_from_log():\n",
    "    evolution = [[[]] * M for i in range(0,N)]\n",
    "\n",
    "    max_time = 0.\n",
    "    max_val = 0.\n",
    "\n",
    "    for ln in open(filename,\"r\").readlines():\n",
    "        if ln.startswith(\"0 / L / Y /\"):\n",
    "\n",
    "            time = re.compile(r\"\\d+:\\d+:\\d+:\\d+:\\d+[\\.\\d+]*\").search(ln.split('/')[3]).group(0)\n",
    "            cell = re.compile(NOMBRE_MODELO_CELL_DEVS + \"\\(\\d+,\\d+,0\\)\").findall(ln)\n",
    "            val  = re.compile(r\"-*\\d+[\\.\\d+]*\").search(ln.split('/')[6]).group(0)\n",
    "\n",
    "            if len(cell) == 0:\n",
    "                continue\n",
    "            cell = cell[0]\n",
    "            coord = re.search(re.compile(r\"\\(.*,.*,0\\)\"), cell).group(0)[1:-1].split(',')\n",
    "            i, j = int(coord[0]), int(coord[1])\n",
    "            evolution[i][j].append({\n",
    "                \"time\" : time,\n",
    "                \"time_converted\" : str2time(time),\n",
    "                \"val\" : float(val)\n",
    "            })\n",
    "            max_time = max(max_time, str2time(time))\n",
    "            max_val = max(max_val, val)\n",
    "\n",
    "    return evolution, max_time"
   ]
  },
  {
   "cell_type": "code",
   "execution_count": 4,
   "metadata": {},
   "outputs": [],
   "source": [
    "def get_cut_values(ev, pts):\n",
    "    res = []\n",
    "    i, j = 0, 0\n",
    "    while i < len(ev)-1:\n",
    "        if (ev[i]['time_converted'] <= pts[j] and ev[i+1]['time_converted'] > pts[j]) \\\n",
    "            or ev[i]['time_converted'] > pts[j]:\n",
    "            res.append({\n",
    "                'time' : pts[j], \n",
    "                'interval' : (ev[i]['time_converted'], ev[i+1]['time_converted']),\n",
    "                'value' : ev[i]['val']\n",
    "            })\n",
    "            j = j+1        \n",
    "        else:\n",
    "            i = i + 1\n",
    "    while j < len(pts):\n",
    "        res.append({\n",
    "            'time' : pts[j],\n",
    "            'interval' : (ev[i-1]['time_converted'], ev[i]['time_converted']),\n",
    "            'value' : ev[i]['val']\n",
    "        })\n",
    "        j = j+1  \n",
    "    return res"
   ]
  },
  {
   "cell_type": "markdown",
   "metadata": {},
   "source": [
    "# Ejemplos"
   ]
  },
  {
   "cell_type": "code",
   "execution_count": 55,
   "metadata": {},
   "outputs": [],
   "source": [
    "# PARAMS\n",
    "NOMBRE_EXPERIMENTO = 'exp_pedro_1'\n",
    "NOMBRE_CARPETA = '100_1_0.2_0.4_0.4'\n",
    "NOMBRE_ARCHIVO = 'new_log_valfile_exp_00.log'\n",
    "NOMBRE_MODELO_CELL_DEVS = 'opinion'\n",
    "\n",
    "MODELO = 'opinion-goodwin-minsky'\n",
    "\n",
    "filename = '../modelos/' + NOMBRE_MODELO_CELL_DEVS + '/' + MODELO + '/experimentos/' \\\n",
    "            + NOMBRE_EXPERIMENTO + '/' + NOMBRE_CARPETA \\\n",
    "            +'/result_logs/' + NOMBRE_ARCHIVO\n",
    "\n",
    "# Parametros\n",
    "N = 10\n",
    "M = 10\n",
    "\n",
    "# Cantidad de instantes en los que quiero conocer el valor exacto de cada celda\n",
    "n_cuts = 100"
   ]
  },
  {
   "cell_type": "code",
   "execution_count": 56,
   "metadata": {},
   "outputs": [],
   "source": [
    "evolution, max_time = get_evolution_from_log()\n",
    "evolution_values = [[[]] * M for i in range(0,N)]\n",
    "\n",
    "pts = np.linspace(0,max_time, n_cuts)\n",
    "\n",
    "for i in range(0,N):\n",
    "    for j in range(0,M):\n",
    "        evolution_values[i][j] = get_cut_values(evolution[i][j], pts)"
   ]
  },
  {
   "cell_type": "code",
   "execution_count": 57,
   "metadata": {},
   "outputs": [],
   "source": [
    "# Enter cell to plot evolution\n",
    "y = list(map(lambda x : x['time'], evolution_values[0][0]))\n",
    "xs = [list(map(lambda x : x['value'], evolution_values[i][j])) for i in range(0,2) for j in range(0,2)]\n",
    "z = list(map(sum, zip(*xs)))      "
   ]
  },
  {
   "cell_type": "code",
   "execution_count": 66,
   "metadata": {},
   "outputs": [
    {
     "data": {
      "text/plain": [
       "[{'interval': (0.0, 0.1), 'time': 0.0, 'value': 2.91975},\n",
       " {'interval': (0.5, 0.6), 'time': 0.55555555555555558, 'value': 2.81975},\n",
       " {'interval': (1.1, 1.2), 'time': 1.1111111111111112, 'value': 0.53822},\n",
       " {'interval': (1.6, 1.7), 'time': 1.6666666666666667, 'value': 2.31975},\n",
       " {'interval': (2.2, 2.3), 'time': 2.2222222222222223, 'value': 0.5},\n",
       " {'interval': (2.7, 2.8), 'time': 2.7777777777777777, 'value': 2.11975},\n",
       " {'interval': (3.3, 3.4), 'time': 3.3333333333333335, 'value': 0.05},\n",
       " {'interval': (3.8, 3.9), 'time': 3.8888888888888893, 'value': 1.81975},\n",
       " {'interval': (4.4, 4.5), 'time': 4.4444444444444446, 'value': 1.81975},\n",
       " {'interval': (5.0, 5.1), 'time': 5.0, 'value': 0.05},\n",
       " {'interval': (5.5, 5.6), 'time': 5.5555555555555554, 'value': 1.41975},\n",
       " {'interval': (6.1, 6.2), 'time': 6.1111111111111116, 'value': 1.21975},\n",
       " {'interval': (6.6, 6.7), 'time': 6.666666666666667, 'value': 2.23816},\n",
       " {'interval': (7.2, 7.3), 'time': 7.2222222222222223, 'value': 1.51975},\n",
       " {'interval': (7.7, 7.8), 'time': 7.7777777777777786, 'value': 1.31975},\n",
       " {'interval': (8.3, 8.4), 'time': 8.3333333333333339, 'value': 1.41975},\n",
       " {'interval': (8.8, 8.9), 'time': 8.8888888888888893, 'value': 1.31975},\n",
       " {'interval': (9.4, 9.5), 'time': 9.4444444444444446, 'value': 1.1},\n",
       " {'interval': (10.0, 10.2), 'time': 10.0, 'value': 0.45},\n",
       " {'interval': (10.5, 10.6), 'time': 10.555555555555555, 'value': 0.91975},\n",
       " {'interval': (11.1, 11.2), 'time': 11.111111111111111, 'value': 0.55},\n",
       " {'interval': (11.6, 11.7), 'time': 11.666666666666668, 'value': 1.0},\n",
       " {'interval': (12.2, 12.3), 'time': 12.222222222222223, 'value': 0.36975},\n",
       " {'interval': (12.7, 12.8), 'time': 12.777777777777779, 'value': 0.21975},\n",
       " {'interval': (13.3, 13.4), 'time': 13.333333333333334, 'value': 1.8},\n",
       " {'interval': (13.8, 13.9), 'time': 13.888888888888889, 'value': 0.21975},\n",
       " {'interval': (14.4, 14.5), 'time': 14.444444444444445, 'value': 2.6},\n",
       " {'interval': (15.0, 15.1), 'time': 15.0, 'value': 2.3},\n",
       " {'interval': (15.3, 15.6), 'time': 15.555555555555557, 'value': 0.56975},\n",
       " {'interval': (16.1, 16.2), 'time': 16.111111111111111, 'value': 2.3},\n",
       " {'interval': (16.6, 16.7), 'time': 16.666666666666668, 'value': 1.55212},\n",
       " {'interval': (17.2, 17.3), 'time': 17.222222222222221, 'value': 1.21976},\n",
       " {'interval': (17.7, 17.8), 'time': 17.777777777777779, 'value': 2.35212},\n",
       " {'interval': (18.3, 18.4), 'time': 18.333333333333336, 'value': 1.61976},\n",
       " {'interval': (18.8, 18.9), 'time': 18.888888888888889, 'value': 2.01976},\n",
       " {'interval': (19.4, 19.5), 'time': 19.444444444444446, 'value': 2.33809},\n",
       " {'interval': (20.0, 20.1), 'time': 20.0, 'value': 2.61976},\n",
       " {'interval': (20.5, 20.6), 'time': 20.555555555555557, 'value': 2.71976},\n",
       " {'interval': (21.1, 21.2), 'time': 21.111111111111111, 'value': 2.63809},\n",
       " {'interval': (21.6, 21.7), 'time': 21.666666666666668, 'value': 2.20187},\n",
       " {'interval': (22.2, 22.3), 'time': 22.222222222222221, 'value': 1.00003},\n",
       " {'interval': (22.7, 22.8), 'time': 22.777777777777779, 'value': 1.10003},\n",
       " {'interval': (23.3, 23.4), 'time': 23.333333333333336, 'value': 2.62233},\n",
       " {'interval': (23.8, 23.9), 'time': 23.888888888888889, 'value': 1.37434},\n",
       " {'interval': (24.4, 24.7), 'time': 24.444444444444446, 'value': 1.45003},\n",
       " {'interval': (25.0, 25.2), 'time': 25.0, 'value': 2.60187},\n",
       " {'interval': (25.5, 25.9), 'time': 25.555555555555557, 'value': 2.80187},\n",
       " {'interval': (26.1, 26.2), 'time': 26.111111111111111, 'value': 2.15003},\n",
       " {'interval': (26.6, 26.7), 'time': 26.666666666666668, 'value': 2.45003},\n",
       " {'interval': (27.2, 27.4), 'time': 27.222222222222225, 'value': 2.65003},\n",
       " {'interval': (27.76, 27.86), 'time': 27.777777777777779, 'value': 2.81978},\n",
       " {'interval': (28.3, 28.4), 'time': 28.333333333333336, 'value': 2.13598},\n",
       " {'interval': (28.8, 28.9), 'time': 28.888888888888889, 'value': 2.43598},\n",
       " {'interval': (29.4, 29.5), 'time': 29.444444444444446, 'value': 2.13598},\n",
       " {'interval': (30.0, 30.1), 'time': 30.0, 'value': 2.03598},\n",
       " {'interval': (30.5, 30.6), 'time': 30.555555555555557, 'value': 2.60185},\n",
       " {'interval': (31.1, 31.2), 'time': 31.111111111111114, 'value': 2.13598},\n",
       " {'interval': (31.6, 31.7), 'time': 31.666666666666668, 'value': 2.23598},\n",
       " {'interval': (32.2, 32.4), 'time': 32.222222222222221, 'value': 2.32845},\n",
       " {'interval': (32.7, 32.8), 'time': 32.777777777777779, 'value': 2.62845},\n",
       " {'interval': (32.9, 36.68), 'time': 33.333333333333336, 'value': 2.83598},\n",
       " {'interval': (32.9, 36.68), 'time': 33.888888888888893, 'value': 2.83598},\n",
       " {'interval': (32.9, 36.68), 'time': 34.444444444444443, 'value': 2.83598},\n",
       " {'interval': (32.9, 36.68), 'time': 35.0, 'value': 2.83598},\n",
       " {'interval': (32.9, 36.68), 'time': 35.555555555555557, 'value': 2.83598},\n",
       " {'interval': (32.9, 36.68), 'time': 36.111111111111114, 'value': 2.83598},\n",
       " {'interval': (32.9, 36.68), 'time': 36.666666666666671, 'value': 2.83598},\n",
       " {'interval': (37.2, 37.3), 'time': 37.222222222222221, 'value': 2.20221},\n",
       " {'interval': (37.7, 37.8), 'time': 37.777777777777779, 'value': 2.60221},\n",
       " {'interval': (38.3, 38.4), 'time': 38.333333333333336, 'value': 2.55012},\n",
       " {'interval': (38.8, 38.9), 'time': 38.888888888888893, 'value': 2.38444},\n",
       " {'interval': (39.4, 39.5), 'time': 39.444444444444443, 'value': 2.78444},\n",
       " {'interval': (40.0, 40.1), 'time': 40.0, 'value': 2.45012},\n",
       " {'interval': (40.5, 40.6), 'time': 40.555555555555557, 'value': 2.85012},\n",
       " {'interval': (41.1, 41.2), 'time': 41.111111111111114, 'value': 0.45},\n",
       " {'interval': (41.6, 41.7), 'time': 41.666666666666671, 'value': 0.95},\n",
       " {'interval': (42.2, 42.3), 'time': 42.222222222222221, 'value': 1.25},\n",
       " {'interval': (42.7, 42.8), 'time': 42.777777777777779, 'value': 1.45},\n",
       " {'interval': (43.2, 43.4), 'time': 43.333333333333336, 'value': 1.65},\n",
       " {'interval': (43.8, 43.9), 'time': 43.888888888888893, 'value': 1.55},\n",
       " {'interval': (44.4, 44.5), 'time': 44.444444444444443, 'value': 1.90898},\n",
       " {'interval': (45.0, 45.1), 'time': 45.0, 'value': 2.40898},\n",
       " {'interval': (45.5, 45.6), 'time': 45.555555555555557, 'value': 2.70898},\n",
       " {'interval': (46.1, 46.2), 'time': 46.111111111111114, 'value': 1.05733},\n",
       " {'interval': (46.6, 46.8), 'time': 46.666666666666671, 'value': 2.23607},\n",
       " {'interval': (47.1, 47.3), 'time': 47.222222222222221, 'value': 2.0288},\n",
       " {'interval': (47.7, 47.8), 'time': 47.777777777777779, 'value': 2.43607},\n",
       " {'interval': (48.3, 48.4), 'time': 48.333333333333336, 'value': 1.55733},\n",
       " {'interval': (48.8, 48.9), 'time': 48.888888888888893, 'value': 2.83607},\n",
       " {'interval': (49.4, 49.5), 'time': 49.44444444444445, 'value': 1.75733},\n",
       " {'interval': (50.0, 50.16), 'time': 50.0, 'value': 1.55733},\n",
       " {'interval': (50.5, 50.6), 'time': 50.555555555555557, 'value': 2.70008},\n",
       " {'interval': (51.1, 51.2), 'time': 51.111111111111114, 'value': 2.42878},\n",
       " {'interval': (51.6, 51.7), 'time': 51.666666666666671, 'value': 1.25724},\n",
       " {'interval': (52.2, 52.3), 'time': 52.222222222222221, 'value': 1.84482},\n",
       " {'interval': (52.7, 52.8), 'time': 52.777777777777779, 'value': 2.24482},\n",
       " {'interval': (53.3, 53.4), 'time': 53.333333333333336, 'value': 2.62878},\n",
       " {'interval': (53.8, 53.9), 'time': 53.888888888888893, 'value': 1.68683},\n",
       " {'interval': (54.4, 54.5), 'time': 54.44444444444445, 'value': 1.88683},\n",
       " {'interval': (54.5, 54.8), 'time': 55.0, 'value': 2.55724}]"
      ]
     },
     "execution_count": 66,
     "metadata": {},
     "output_type": "execute_result"
    }
   ],
   "source": [
    "evolution_values[9][8]"
   ]
  },
  {
   "cell_type": "code",
   "execution_count": 58,
   "metadata": {},
   "outputs": [
    {
     "data": {
      "image/png": "[encoded data removed]",
      "text/plain": [
       "<matplotlib.figure.Figure at 0x7f542b4de690>"
      ]
     },
     "metadata": {},
     "output_type": "display_data"
    }
   ],
   "source": [
    "sns.set_style(\"darkgrid\")\n",
    "ax = sns.pointplot(x=list(map(lambda a : round(a,2), x)), y=z)\n",
    "ax.set_ylim(-15,15)\n",
    "\n",
    "import matplotlib.ticker as ticker\n",
    "tick_spacing = 10\n",
    "ax.xaxis.set_major_locator(ticker.MultipleLocator(tick_spacing))"
   ]
  },
  {
   "cell_type": "code",
   "execution_count": null,
   "metadata": {},
   "outputs": [],
   "source": []
  }
 ],
 "metadata": {
  "kernelspec": {
   "display_name": "Python 2",
   "language": "python",
   "name": "python2"
  },
  "language_info": {
   "codemirror_mode": {
    "name": "ipython",
    "version": 2
   },
   "file_extension": ".py",
   "mimetype": "text/x-python",
   "name": "python",
   "nbconvert_exporter": "python",
   "pygments_lexer": "ipython2",
   "version": "2.7.12"
  }
 },
 "nbformat": 4,
 "nbformat_minor": 2
}
