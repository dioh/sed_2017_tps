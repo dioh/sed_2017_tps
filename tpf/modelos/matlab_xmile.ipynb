{
 "cells": [
  {
   "cell_type": "markdown",
   "metadata": {},
   "source": [
    "# MATLAB => XMILE"
   ]
  },
  {
   "cell_type": "code",
   "execution_count": 14,
   "metadata": {},
   "outputs": [],
   "source": [
    "from jinja2 import DictLoader, Environment, FileSystemLoader\n",
    "import os\n",
    "import re\n",
    "import xml.etree.ElementTree as etree\n",
    "\n",
    "from py_expression_eval import Parser\n",
    "parser = Parser()"
   ]
  },
  {
   "cell_type": "code",
   "execution_count": 15,
   "metadata": {},
   "outputs": [],
   "source": [
    "source_xmlns = \"{http://docs.oasis-open.org/xmile/ns/XMILE/v1.0}\" \n",
    "source_xmlns_isee = \"{http://iseesystems.com/XMILE}\""
   ]
  },
  {
   "cell_type": "code",
   "execution_count": 16,
   "metadata": {},
   "outputs": [],
   "source": [
    "matlab_file = 'goodwin-minsky-matlab/goodwin-minsky-with-names.m'\n",
    "template_xmile = 'template-xmile.xml'"
   ]
  },
  {
   "cell_type": "markdown",
   "metadata": {},
   "source": [
    "# Parseo archivo Matlab"
   ]
  },
  {
   "cell_type": "code",
   "execution_count": 17,
   "metadata": {},
   "outputs": [],
   "source": [
    "PATH = './'\n",
    "TEMPLATE_ENVIRONMENT = Environment(\n",
    "    autoescape=False,\n",
    "    loader=FileSystemLoader(os.path.join(PATH, 'templates')),\n",
    "    trim_blocks=False)\n",
    "def render_template(template_filename, context):\n",
    "    return TEMPLATE_ENVIRONMENT.get_template(template_filename).render(context)"
   ]
  },
  {
   "cell_type": "code",
   "execution_count": 18,
   "metadata": {},
   "outputs": [],
   "source": [
    "with open(matlab_file, 'rb') as f:\n",
    "    matlab_code = f.read()\n",
    "    #print(matlab_code)"
   ]
  },
  {
   "cell_type": "code",
   "execution_count": 19,
   "metadata": {},
   "outputs": [],
   "source": [
    "# stocks ids\n",
    "stocks_ids_re = re.compile(r\"[\\w]+=x\\(\\d+\\)\")\n",
    "stocks_ids = {re.search(re.compile(r\"(.+)=\"), exp).group(0)[:-1] : \n",
    "              re.search(re.compile(r\"x\\((.+)\\)\"), exp).group(1)\n",
    "              for exp in stocks_ids_re.findall(matlab_code)}\n",
    "#print(stocks_ids)\n",
    "\n",
    "stocks_init_values_re = re.compile(r\"x0\\(\\d+\\)=\\d+[\\.\\d+]*\")\n",
    "stocks_init_values_dict = {re.search(re.compile(r\"x0\\((.+)\\)\"), exp).group(1) : \n",
    "                    re.search(re.compile(r\"=(.+)\"), exp).group(0)[1:]\n",
    "                    for exp in stocks_init_values_re.findall(matlab_code)}\n",
    "#print(stocks_init_values_dict)"
   ]
  },
  {
   "cell_type": "markdown",
   "metadata": {},
   "source": [
    "### Joineo los 'stocks' con sus valores iniciales Capital=x(1) => x0(1)=300"
   ]
  },
  {
   "cell_type": "code",
   "execution_count": 20,
   "metadata": {},
   "outputs": [],
   "source": [
    "stocks_init_values_re = re.compile(r\"[\\w]+=x\\(\\d+\\)\")\n",
    "stocks_init_values = {re.search(re.compile(r\"(.+)=\"), exp).group(0)[:-1] : \n",
    "                    stocks_init_values_dict[re.search(re.compile(r\"x\\((.+)\\)\"), exp).group(1)]\n",
    "                    for exp in stocks_init_values_re.findall(matlab_code)}\n",
    "#print(stocks_init_values)"
   ]
  },
  {
   "cell_type": "code",
   "execution_count": 21,
   "metadata": {},
   "outputs": [],
   "source": [
    "stocks_change_re = re.compile(r\"f\\(\\d+\\)=[\\w\\(\\)\\+\\-\\*\\/\\.]+\")\n",
    "stocks_change_dict = {re.search(re.compile(r\"f\\((\\d+)\\)\"), exp).group(1) : \n",
    "                      parser.parse(re.search(re.compile(r\"=(.+)\"), exp).group(0)[1:])\n",
    "                      for exp in stocks_change_re.findall(matlab_code)}\n",
    "#print(stocks_change_dict)"
   ]
  },
  {
   "cell_type": "markdown",
   "metadata": {},
   "source": [
    "### Joineo los 'stocks' con sus rates de cambio Capital=x(1) => f(1)=InvestmentNetReal"
   ]
  },
  {
   "cell_type": "code",
   "execution_count": 22,
   "metadata": {},
   "outputs": [],
   "source": [
    "stocks_change = {k : stocks_change_dict[stocks_ids[k]]\n",
    "                 for k,v in stocks_init_values.iteritems()}\n",
    "#print({k : v.toString() for k,v in stocks_change.iteritems()})"
   ]
  },
  {
   "cell_type": "code",
   "execution_count": 23,
   "metadata": {},
   "outputs": [],
   "source": [
    "auxs_init_values_re = re.compile(r\"[\\w]+=\\d+[\\.\\d+]*\")\n",
    "auxs_init_values = {re.search(re.compile(r\"(.+)=\"), exp).group(0)[:-1] : \n",
    "                    re.search(re.compile(r\"=(.+)\"), exp).group(0)[1:] \n",
    "                    for exp in auxs_init_values_re.findall(matlab_code)}\n",
    "#print(auxs_init_values)"
   ]
  },
  {
   "cell_type": "code",
   "execution_count": 24,
   "metadata": {},
   "outputs": [],
   "source": [
    "# TODO : solo acepta operaciones de +, -, *, /\n",
    "auxs_equations_re = re.compile(r\"[\\w]+=[\\w\\(\\)\\+\\-\\*\\/\\.]+\")\n",
    "auxs_equations = {re.search(re.compile(r\"(.+)=\"), exp).group(0)[:-1] : \n",
    "                    parser.parse(re.search(re.compile(r\"=(.+)\"), exp).group(0)[1:])\n",
    "                    for exp in auxs_equations_re.findall(matlab_code)[1:]\n",
    "                    if re.search(re.compile(r\"(.+)=\"), exp).group(0)[:-1] not in\n",
    "                    auxs_init_values.keys() + stocks_init_values.keys()}\n",
    "#print(auxs_equations.keys())\n",
    "#print([exp.simplify({}).toString() for exp in auxs_equations.values()])"
   ]
  },
  {
   "cell_type": "markdown",
   "metadata": {},
   "source": [
    "## Estructura de datos con informacion de stocks / flows / auxs"
   ]
  },
  {
   "cell_type": "code",
   "execution_count": 25,
   "metadata": {},
   "outputs": [],
   "source": [
    "# stocks_init_values | auxs_init_values | flows_auxs_equation\n",
    "stocks = [\n",
    "    {'name' : k, 'eqn' : v, 'inflow' : 'chg'+k} \n",
    "    for k,v in stocks_init_values.iteritems()\n",
    "]\n",
    "flows = [\n",
    "    {'name' : 'chg'+k, 'eqn' : stocks_change[k].toString()}\n",
    "    for k,v in stocks_init_values.iteritems()\n",
    "]\n",
    "# Auxs : definidas de forma DIRECTA / INDIRECTA\n",
    "auxs = [\n",
    "    {'name' : k, 'eqn' : v.toString()}\n",
    "    for k,v in auxs_equations.iteritems()\n",
    "] + [\n",
    "    {'name' : k, 'eqn' : v}\n",
    "    for k,v in auxs_init_values.iteritems()\n",
    "]\n",
    "dependencies = [\n",
    "    {'name' : 'chg'+k, 'inputs' : stocks_change[k].variables()}\n",
    "    for k,v in stocks_init_values.iteritems()\n",
    "] + [\n",
    "    {'name' : k, 'inputs' : v.variables()}\n",
    "    for k,v in auxs_equations.iteritems()\n",
    "]"
   ]
  },
  {
   "cell_type": "code",
   "execution_count": 26,
   "metadata": {},
   "outputs": [],
   "source": [
    "#stocks"
   ]
  },
  {
   "cell_type": "code",
   "execution_count": 27,
   "metadata": {},
   "outputs": [],
   "source": [
    "#flows"
   ]
  },
  {
   "cell_type": "code",
   "execution_count": 28,
   "metadata": {},
   "outputs": [],
   "source": [
    "#auxs"
   ]
  },
  {
   "cell_type": "code",
   "execution_count": 29,
   "metadata": {},
   "outputs": [],
   "source": [
    "#dependencies"
   ]
  },
  {
   "cell_type": "markdown",
   "metadata": {},
   "source": [
    "# Generacion de archivo XMILE"
   ]
  },
  {
   "cell_type": "code",
   "execution_count": 30,
   "metadata": {},
   "outputs": [],
   "source": [
    "model_name = 'test'\n",
    "time_start = 1\n",
    "time_stop = 2\n",
    "time_delta = 0.5"
   ]
  },
  {
   "cell_type": "code",
   "execution_count": 31,
   "metadata": {},
   "outputs": [],
   "source": [
    "context = {\n",
    "    'model_name' : model_name,\n",
    "    'time_start' : time_start,\n",
    "    'time_stop'  : time_stop,\n",
    "    'time_delta' : time_delta, \n",
    "    'stocks' : stocks,\n",
    "    'flows'  : flows,\n",
    "    'auxs'   : auxs,\n",
    "    'dependencies' : dependencies\n",
    "}\n",
    "#print(render_template(template_xmile, context))"
   ]
  },
  {
   "cell_type": "code",
   "execution_count": 19,
   "metadata": {},
   "outputs": [],
   "source": [
    "with open('goodwin-minsky-matlab/goodwin-minsky-matlab.xmile', 'w') as f:\n",
    "    f.write(render_template(template_xmile, context))"
   ]
  }
 ],
 "metadata": {
  "kernelspec": {
   "display_name": "Python 2",
   "language": "python",
   "name": "python2"
  },
  "language_info": {
   "codemirror_mode": {
    "name": "ipython",
    "version": 2
   },
   "file_extension": ".py",
   "mimetype": "text/x-python",
   "name": "python",
   "nbconvert_exporter": "python",
   "pygments_lexer": "ipython2",
   "version": "2.7.12"
  }
 },
 "nbformat": 4,
 "nbformat_minor": 2
}
