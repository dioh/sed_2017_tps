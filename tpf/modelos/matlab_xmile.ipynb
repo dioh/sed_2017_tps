{
 "cells": [
  {
   "cell_type": "code",
   "execution_count": 68,
   "metadata": {},
   "outputs": [],
   "source": [
    "from jinja2 import DictLoader, Environment, FileSystemLoader\n",
    "import os\n",
    "import re\n",
    "PATH = './'\n",
    "TEMPLATE_ENVIRONMENT = Environment(\n",
    "    autoescape=False,\n",
    "    loader=FileSystemLoader(os.path.join(PATH, 'templates')),\n",
    "    trim_blocks=False)\n",
    "def render_template(template_filename, context):\n",
    "    return TEMPLATE_ENVIRONMENT.get_template(template_filename).render(context)"
   ]
  },
  {
   "cell_type": "code",
   "execution_count": 69,
   "metadata": {},
   "outputs": [],
   "source": [
    "import xml.etree.ElementTree as etree\n",
    "source_xmlns = \"{http://docs.oasis-open.org/xmile/ns/XMILE/v1.0}\" \n",
    "source_xmlns_isee = \"{http://iseesystems.com/XMILE}\""
   ]
  },
  {
   "cell_type": "code",
   "execution_count": 70,
   "metadata": {},
   "outputs": [],
   "source": [
    "matlab_file = 'goodwin-minsky/goodwin-minsky-with-names.m'\n",
    "template_xmile = 'template-xmile.xml'"
   ]
  },
  {
   "cell_type": "markdown",
   "metadata": {},
   "source": [
    "# Parseo archivo Matlab"
   ]
  },
  {
   "cell_type": "code",
   "execution_count": 71,
   "metadata": {},
   "outputs": [
    {
     "name": "stdout",
     "output_type": "stream",
     "text": [
      "function f=f(x,t)\r\n",
      "Capital=x(1);\r\n",
      "Debt=x(2);\r\n",
      "LaborProductivity=x(3);\r\n",
      "Population=x(4);\r\n",
      "wageRate=x(5);\r\n",
      "piS=10;\r\n",
      "employmentRateZero=0.9;\r\n",
      "employmentRateStable=10;\r\n",
      "deltaKReal=0.1;\r\n",
      "piZ=0.03;\r\n",
      "rateInterestOnLoans=0.04;\r\n",
      "velocityOfMoney=2;\r\n",
      "Betaa=0.015;\r\n",
      "Alphaa=0.025;\r\n",
      "Interest=(rateInterestOnLoans)*(Debt);\r\n",
      "Output=(Capital)/((velocityOfMoney));\r\n",
      "Labor=(Output)/((LaborProductivity));\r\n",
      "Wages=(wageRate)*(Labor);\r\n",
      "employmentRateValue=(Labor)/((Population));\r\n",
      "wageFunction=(employmentRateStable)*(employmentRateValue-(employmentRateZero));\r\n",
      "ProfitGrossReal=Output-(Wages);\r\n",
      "omega=(Wages)/((Output));\r\n",
      "ProfitNet=(ProfitGrossReal)-(Interest);\r\n",
      "piR=(ProfitNet)/((Capital));\r\n",
      "InvestmentFunctionReal=(piR-(piZ))*(piS);\r\n",
      "InvestmentGross=(InvestmentFunctionReal)*(Output);\r\n",
      "InvestmentNetReal=InvestmentGross-((Capital)*(deltaKReal));\r\n",
      "f(1)=InvestmentNetReal;\r\n",
      "f(2)=InvestmentGross;\r\n",
      "f(3)=(Alphaa)*(LaborProductivity);\r\n",
      "f(4)=(Population)*(Betaa);\r\n",
      "f(5)=(wageFunction)*(wageRate);\r\n",
      "endfunction;\r\n",
      "\r\n",
      "x0(1)=300;\r\n",
      "x0(2)=0;\r\n",
      "x0(3)=1;\r\n",
      "x0(4)=120;\r\n",
      "x0(5)=0.8;\r\n",
      "\n"
     ]
    }
   ],
   "source": [
    "with open(matlab_file, 'rb') as f:\n",
    "    matlab_code = f.read()\n",
    "    print(matlab_code)"
   ]
  },
  {
   "cell_type": "code",
   "execution_count": 40,
   "metadata": {},
   "outputs": [],
   "source": [
    "from py_expression_eval import Parser\n",
    "parser = Parser()"
   ]
  },
  {
   "cell_type": "code",
   "execution_count": 14,
   "metadata": {},
   "outputs": [
    {
     "name": "stdout",
     "output_type": "stream",
     "text": [
      "{'LaborProductivity': '3', 'wageRate': '5', 'Debt': '2', 'Population': '4', 'Capital': '1'}\n"
     ]
    }
   ],
   "source": [
    "# stocks ids\n",
    "stocks_ids_re = re.compile(r\"[\\w]+=x\\(\\d+\\)\")\n",
    "stocks_ids = {re.search(re.compile(r\"(.+)=\"), exp).group(0)[:-1] : \n",
    "              re.search(re.compile(r\"x\\((.+)\\)\"), exp).group(1)\n",
    "              for exp in stocks_ids_re.findall(matlab_code)}\n",
    "print(stocks_ids)"
   ]
  },
  {
   "cell_type": "code",
   "execution_count": 15,
   "metadata": {},
   "outputs": [
    {
     "name": "stdout",
     "output_type": "stream",
     "text": [
      "{'LaborProductivity': '1', 'wageRate': '0.8', 'Debt': '0', 'Population': '120', 'Capital': '300'}\n"
     ]
    }
   ],
   "source": [
    "stocks_init_values_re = re.compile(r\"x0\\(\\d+\\)=\\d+[\\.\\d+]*\")\n",
    "stocks_init_values_dict = {re.search(re.compile(r\"x0\\((.+)\\)\"), exp).group(1) : \n",
    "                    re.search(re.compile(r\"=(.+)\"), exp).group(0)[1:]\n",
    "                    for exp in stocks_init_values_re.findall(matlab_code)}\n",
    "#print(stocks_init_values_dict)\n",
    "\n",
    "# Joineo los 'stocks' con sus valores iniciales Capital=x(1) => x0(1)=300\n",
    "stocks_init_values_re = re.compile(r\"[\\w]+=x\\(\\d+\\)\")\n",
    "stocks_init_values = {re.search(re.compile(r\"(.+)=\"), exp).group(0)[:-1] : \n",
    "                    stocks_init_values_dict[re.search(re.compile(r\"x\\((.+)\\)\"), exp).group(1)]\n",
    "                    for exp in stocks_init_values_re.findall(matlab_code)}\n",
    "print(stocks_init_values)"
   ]
  },
  {
   "cell_type": "code",
   "execution_count": 43,
   "metadata": {},
   "outputs": [
    {
     "name": "stdout",
     "output_type": "stream",
     "text": [
      "{'LaborProductivity': '(Alphaa*LaborProductivity)', 'wageRate': '(wageFunction*wageRate)', 'Debt': 'InvestmentGross', 'Population': '(Population*Betaa)', 'Capital': 'InvestmentNetReal'}\n"
     ]
    }
   ],
   "source": [
    "stocks_change_re = re.compile(r\"f\\(\\d+\\)=[\\w\\(\\)\\+\\-\\*\\/\\.]+\")\n",
    "stocks_change_dict = {re.search(re.compile(r\"f\\((\\d+)\\)\"), exp).group(1) : \n",
    "                      parser.parse(re.search(re.compile(r\"=(.+)\"), exp).group(0)[1:])\n",
    "                      for exp in stocks_change_re.findall(matlab_code)}\n",
    "#print(stocks_change_dict)\n",
    "\n",
    "# Joineo los 'stocks' con sus rates de cambio Capital=x(1) => f(1)=InvestmentNetReal\n",
    "stocks_change = {k : stocks_change_dict[stocks_ids[k]]\n",
    "                 for k,v in stocks_init_values.iteritems()}\n",
    "print({k : v.toString() for k,v in stocks_change.iteritems()})"
   ]
  },
  {
   "cell_type": "code",
   "execution_count": 44,
   "metadata": {},
   "outputs": [
    {
     "name": "stdout",
     "output_type": "stream",
     "text": [
      "{'piS': '10', 'Betaa': '0.015', 'rateInterestOnLoans': '0.04', 'piZ': '0.03', 'Alphaa': '0.025', 'employmentRateZero': '0.9', 'employmentRateStable': '10', 'deltaKReal': '0.1', 'velocityOfMoney': '2'}\n"
     ]
    }
   ],
   "source": [
    "auxs_init_values_re = re.compile(r\"[\\w]+=\\d+[\\.\\d+]*\")\n",
    "auxs_init_values = {re.search(re.compile(r\"(.+)=\"), exp).group(0)[:-1] : \n",
    "                    re.search(re.compile(r\"=(.+)\"), exp).group(0)[1:] \n",
    "                    for exp in auxs_init_values_re.findall(matlab_code)}\n",
    "print(auxs_init_values)"
   ]
  },
  {
   "cell_type": "code",
   "execution_count": 45,
   "metadata": {},
   "outputs": [
    {
     "name": "stdout",
     "output_type": "stream",
     "text": [
      "['wageFunction', 'InvestmentGross', 'ProfitNet', 'employmentRateValue', 'InvestmentFunctionReal', 'Labor', 'ProfitGrossReal', 'Interest', 'Output', 'Wages', 'omega', 'piR', 'InvestmentNetReal']\n",
      "['(employmentRateStable*(employmentRateValue-employmentRateZero))', '(InvestmentFunctionReal*Output)', '(ProfitGrossReal-Interest)', '(Labor/Population)', '((piR-piZ)*piS)', '(Output/LaborProductivity)', '(Output-Wages)', '(rateInterestOnLoans*Debt)', '(Capital/velocityOfMoney)', '(wageRate*Labor)', '(Wages/Output)', '(ProfitNet/Capital)', '(InvestmentGross-(Capital*deltaKReal))']\n"
     ]
    }
   ],
   "source": [
    "# TODO : solo acepta operaciones de +, -, *, /\n",
    "auxs_equations_re = re.compile(r\"[\\w]+=[\\w\\(\\)\\+\\-\\*\\/\\.]+\")\n",
    "auxs_equations = {re.search(re.compile(r\"(.+)=\"), exp).group(0)[:-1] : \n",
    "                    parser.parse(re.search(re.compile(r\"=(.+)\"), exp).group(0)[1:])\n",
    "                    for exp in auxs_equations_re.findall(matlab_code)[1:]\n",
    "                    if re.search(re.compile(r\"(.+)=\"), exp).group(0)[:-1] not in\n",
    "                    auxs_init_values.keys() + stocks_init_values.keys()}\n",
    "print(auxs_equations.keys())\n",
    "print([exp.simplify({}).toString() for exp in auxs_equations.values()])"
   ]
  },
  {
   "cell_type": "markdown",
   "metadata": {},
   "source": [
    "## Estructura de datos con informacion de stocks / flows / auxs"
   ]
  },
  {
   "cell_type": "code",
   "execution_count": 75,
   "metadata": {},
   "outputs": [],
   "source": [
    "# stocks_init_values | auxs_init_values | flows_auxs_equation\n",
    "stocks = [\n",
    "    {'name' : k, 'eqn' : v, 'inflow' : 'chg'+k} \n",
    "    for k,v in stocks_init_values.iteritems()\n",
    "]\n",
    "flows = [\n",
    "    {'name' : 'chg'+k, 'eqn' : stocks_change[k].toString()}\n",
    "    for k,v in stocks_init_values.iteritems()\n",
    "]\n",
    "# Auxs : definidas de forma DIRECTA / INDIRECTA\n",
    "auxs = [\n",
    "    {'name' : k, 'eqn' : v.toString()}\n",
    "    for k,v in auxs_equations.iteritems()\n",
    "] + [\n",
    "    {'name' : k, 'eqn' : v}\n",
    "    for k,v in auxs_init_values.iteritems()\n",
    "]\n",
    "dependencies = [\n",
    "    {'name' : 'chg'+k, 'inputs' : stocks_change[k].variables()}\n",
    "    for k,v in stocks_init_values.iteritems()\n",
    "] + [\n",
    "    {'name' : k, 'inputs' : v.variables()}\n",
    "    for k,v in auxs_equations.iteritems()\n",
    "]\n"
   ]
  },
  {
   "cell_type": "code",
   "execution_count": 76,
   "metadata": {},
   "outputs": [
    {
     "data": {
      "text/plain": [
       "[{'eqn': '1', 'inflow': 'chgLaborProductivity', 'name': 'LaborProductivity'},\n",
       " {'eqn': '0.8', 'inflow': 'chgwageRate', 'name': 'wageRate'},\n",
       " {'eqn': '0', 'inflow': 'chgDebt', 'name': 'Debt'},\n",
       " {'eqn': '120', 'inflow': 'chgPopulation', 'name': 'Population'},\n",
       " {'eqn': '300', 'inflow': 'chgCapital', 'name': 'Capital'}]"
      ]
     },
     "execution_count": 76,
     "metadata": {},
     "output_type": "execute_result"
    }
   ],
   "source": [
    "stocks"
   ]
  },
  {
   "cell_type": "code",
   "execution_count": 77,
   "metadata": {},
   "outputs": [
    {
     "data": {
      "text/plain": [
       "[{'eqn': '(Alphaa*LaborProductivity)', 'name': 'chgLaborProductivity'},\n",
       " {'eqn': '(wageFunction*wageRate)', 'name': 'chgwageRate'},\n",
       " {'eqn': 'InvestmentGross', 'name': 'chgDebt'},\n",
       " {'eqn': '(Population*Betaa)', 'name': 'chgPopulation'},\n",
       " {'eqn': 'InvestmentNetReal', 'name': 'chgCapital'}]"
      ]
     },
     "execution_count": 77,
     "metadata": {},
     "output_type": "execute_result"
    }
   ],
   "source": [
    "flows"
   ]
  },
  {
   "cell_type": "code",
   "execution_count": 78,
   "metadata": {},
   "outputs": [
    {
     "data": {
      "text/plain": [
       "[{'eqn': '(employmentRateStable*(employmentRateValue-employmentRateZero))',\n",
       "  'name': 'wageFunction'},\n",
       " {'eqn': '(InvestmentFunctionReal*Output)', 'name': 'InvestmentGross'},\n",
       " {'eqn': '(ProfitGrossReal-Interest)', 'name': 'ProfitNet'},\n",
       " {'eqn': '(Labor/Population)', 'name': 'employmentRateValue'},\n",
       " {'eqn': '((piR-piZ)*piS)', 'name': 'InvestmentFunctionReal'},\n",
       " {'eqn': '(Output/LaborProductivity)', 'name': 'Labor'},\n",
       " {'eqn': '(Output-Wages)', 'name': 'ProfitGrossReal'},\n",
       " {'eqn': '(rateInterestOnLoans*Debt)', 'name': 'Interest'},\n",
       " {'eqn': '(Capital/velocityOfMoney)', 'name': 'Output'},\n",
       " {'eqn': '(wageRate*Labor)', 'name': 'Wages'},\n",
       " {'eqn': '(Wages/Output)', 'name': 'omega'},\n",
       " {'eqn': '(ProfitNet/Capital)', 'name': 'piR'},\n",
       " {'eqn': '(InvestmentGross-(Capital*deltaKReal))',\n",
       "  'name': 'InvestmentNetReal'},\n",
       " {'eqn': '10', 'name': 'piS'},\n",
       " {'eqn': '0.015', 'name': 'Betaa'},\n",
       " {'eqn': '0.04', 'name': 'rateInterestOnLoans'},\n",
       " {'eqn': '0.03', 'name': 'piZ'},\n",
       " {'eqn': '0.025', 'name': 'Alphaa'},\n",
       " {'eqn': '0.9', 'name': 'employmentRateZero'},\n",
       " {'eqn': '10', 'name': 'employmentRateStable'},\n",
       " {'eqn': '0.1', 'name': 'deltaKReal'},\n",
       " {'eqn': '2', 'name': 'velocityOfMoney'}]"
      ]
     },
     "execution_count": 78,
     "metadata": {},
     "output_type": "execute_result"
    }
   ],
   "source": [
    "auxs"
   ]
  },
  {
   "cell_type": "code",
   "execution_count": 79,
   "metadata": {},
   "outputs": [
    {
     "data": {
      "text/plain": [
       "[{'inputs': ['Alphaa', 'LaborProductivity'], 'name': 'chgLaborProductivity'},\n",
       " {'inputs': ['wageFunction', 'wageRate'], 'name': 'chgwageRate'},\n",
       " {'inputs': ['InvestmentGross'], 'name': 'chgDebt'},\n",
       " {'inputs': ['Population', 'Betaa'], 'name': 'chgPopulation'},\n",
       " {'inputs': ['InvestmentNetReal'], 'name': 'chgCapital'},\n",
       " {'inputs': ['employmentRateStable',\n",
       "   'employmentRateValue',\n",
       "   'employmentRateZero'],\n",
       "  'name': 'wageFunction'},\n",
       " {'inputs': ['InvestmentFunctionReal', 'Output'], 'name': 'InvestmentGross'},\n",
       " {'inputs': ['ProfitGrossReal', 'Interest'], 'name': 'ProfitNet'},\n",
       " {'inputs': ['Labor', 'Population'], 'name': 'employmentRateValue'},\n",
       " {'inputs': ['piR', 'piZ', 'piS'], 'name': 'InvestmentFunctionReal'},\n",
       " {'inputs': ['Output', 'LaborProductivity'], 'name': 'Labor'},\n",
       " {'inputs': ['Output', 'Wages'], 'name': 'ProfitGrossReal'},\n",
       " {'inputs': ['rateInterestOnLoans', 'Debt'], 'name': 'Interest'},\n",
       " {'inputs': ['Capital', 'velocityOfMoney'], 'name': 'Output'},\n",
       " {'inputs': ['wageRate', 'Labor'], 'name': 'Wages'},\n",
       " {'inputs': ['Wages', 'Output'], 'name': 'omega'},\n",
       " {'inputs': ['ProfitNet', 'Capital'], 'name': 'piR'},\n",
       " {'inputs': ['InvestmentGross', 'Capital', 'deltaKReal'],\n",
       "  'name': 'InvestmentNetReal'}]"
      ]
     },
     "execution_count": 79,
     "metadata": {},
     "output_type": "execute_result"
    }
   ],
   "source": [
    "dependencies"
   ]
  },
  {
   "cell_type": "markdown",
   "metadata": {},
   "source": [
    "# Generacion de archivo XMILE"
   ]
  },
  {
   "cell_type": "code",
   "execution_count": 80,
   "metadata": {},
   "outputs": [],
   "source": [
    "model_name = 'test'\n",
    "time_start = 1\n",
    "time_stop = 2\n",
    "time_delta = 0.5"
   ]
  },
  {
   "cell_type": "code",
   "execution_count": 81,
   "metadata": {},
   "outputs": [],
   "source": [
    "context = {\n",
    "    'model_name' : model_name,\n",
    "    'time_start' : time_start,\n",
    "    'time_stop'  : time_stop,\n",
    "    'time_delta' : time_delta, \n",
    "    'stocks' : stocks,\n",
    "    'flows'  : flows,\n",
    "    'auxs'   : auxs,\n",
    "    'dependencies' : dependencies\n",
    "}"
   ]
  },
  {
   "cell_type": "code",
   "execution_count": 83,
   "metadata": {},
   "outputs": [],
   "source": [
    "#print(render_template(template_xmile, context))"
   ]
  },
  {
   "cell_type": "code",
   "execution_count": 95,
   "metadata": {},
   "outputs": [],
   "source": [
    "with open('goodwin-minsky/test-traduccion-matlab-xmile.xmile', 'w') as f:\n",
    "    f.write(render_template(template_xmile, context))"
   ]
  },
  {
   "cell_type": "code",
   "execution_count": null,
   "metadata": {},
   "outputs": [],
   "source": []
  },
  {
   "cell_type": "code",
   "execution_count": null,
   "metadata": {},
   "outputs": [],
   "source": []
  },
  {
   "cell_type": "code",
   "execution_count": null,
   "metadata": {},
   "outputs": [],
   "source": []
  },
  {
   "cell_type": "code",
   "execution_count": null,
   "metadata": {},
   "outputs": [],
   "source": []
  },
  {
   "cell_type": "code",
   "execution_count": null,
   "metadata": {},
   "outputs": [],
   "source": []
  },
  {
   "cell_type": "code",
   "execution_count": null,
   "metadata": {},
   "outputs": [],
   "source": []
  },
  {
   "cell_type": "code",
   "execution_count": null,
   "metadata": {},
   "outputs": [],
   "source": []
  },
  {
   "cell_type": "code",
   "execution_count": null,
   "metadata": {},
   "outputs": [],
   "source": []
  }
 ],
 "metadata": {
  "kernelspec": {
   "display_name": "Python 2",
   "language": "python",
   "name": "python2"
  },
  "language_info": {
   "codemirror_mode": {
    "name": "ipython",
    "version": 2
   },
   "file_extension": ".py",
   "mimetype": "text/x-python",
   "name": "python",
   "nbconvert_exporter": "python",
   "pygments_lexer": "ipython2",
   "version": "2.7.12"
  }
 },
 "nbformat": 4,
 "nbformat_minor": 2
}
