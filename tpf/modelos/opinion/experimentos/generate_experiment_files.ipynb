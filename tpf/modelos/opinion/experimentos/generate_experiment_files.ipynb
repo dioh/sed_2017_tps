{
 "cells": [
  {
   "cell_type": "markdown",
   "metadata": {},
   "source": [
    "# Generador de archivos para experimentar"
   ]
  },
  {
   "cell_type": "code",
   "execution_count": 83,
   "metadata": {},
   "outputs": [],
   "source": [
    "from jinja2 import DictLoader, Environment, FileSystemLoader\n",
    "import os\n",
    "\n",
    "PATH = './'\n",
    "TEMPLATE_ENVIRONMENT = Environment(\n",
    "    autoescape=False,\n",
    "    loader=FileSystemLoader(os.path.join(PATH, 'templates-experimentos')),\n",
    "    trim_blocks=False)\n",
    "\n",
    "def render_template(template_filename, context):\n",
    "    return TEMPLATE_ENVIRONMENT.get_template(template_filename).render(context)\n",
    "templateMA  = 'template-opinion-dueling-loops-conexion.ma'\n",
    "templateEV  = 'template-events.ev'\n",
    "templateVAL = 'template-valfile.val'\n",
    "templateMACROS = 'template-macros.inc'"
   ]
  },
  {
   "cell_type": "code",
   "execution_count": 84,
   "metadata": {},
   "outputs": [],
   "source": [
    "# Seteo nombre del directorio en el cual voy a guardar todos los experimentos\n",
    "experiment_name = 'batch2'\n",
    "\n",
    "# Seteo las dimensiones del cell-devs\n",
    "N = 10\n",
    "M = 10\n",
    "\n",
    "# Seteo delay del cell-devs para que guarde una relacion que se condiga con la evolucion del modelo\n",
    "# de arriba\n",
    "delayValues = [100]\n",
    "\n",
    "# 1 = envio shocks negativo / negativo / neutro / positivo, segun  limites 80 / 60 / 40 / 20 para Neutralists\n",
    "# 2 = envio shocks neutro / positivo / neutro / negativo, segun limites 80 / 60 / 40 / 20 para Neutralists\n",
    "shockCriteriaValues = [1, 2]\n",
    "\n",
    "# InitialConditions: [%negative, %neutral, %positive]\n",
    "initialConditionsValues = [\n",
    "    [0.1, 0.1, 0.8],\n",
    "    [0.1, 0.8, 0.1],\n",
    "    \n",
    "    [0.2, 0.4, 0.4],\n",
    "    \n",
    "    [0.4, 0.4, 0.2],\n",
    "    [0.4, 0.2, 0.4],\n",
    "    \n",
    "    [0.8, 0.1, 0.1]\n",
    "]"
   ]
  },
  {
   "cell_type": "code",
   "execution_count": 91,
   "metadata": {},
   "outputs": [],
   "source": [
    "import numpy as np\n",
    "from random import shuffle\n",
    "def generateInitialValues(initialConditionValues, N, M):\n",
    "    pnegative, pneutral, ppositive = initialConditionValues[0], initialConditionValues[1], initialConditionValues[2]\n",
    "    negative, neutral = int(N*M*pnegative), int(N*M*pneutral)\n",
    "    positive = N*M - neutral - negative\n",
    "    vpositive = [np.random.uniform(1,3) for i in range(positive)]\n",
    "    vneutral  = [np.random.uniform(-1,1) for i in range(neutral)]\n",
    "    vnegative = [np.random.uniform(-3,-1) for i in range(negative)]\n",
    "    v = vpositive + vneutral + vnegative\n",
    "    shuffle(v)\n",
    "    res = []\n",
    "    for i in range(10):\n",
    "        for j in range(10):\n",
    "            res.append('(' + str(i) + ',' + str(j) + ',0)=' + str(v[M*i+j]))\n",
    "    return res"
   ]
  },
  {
   "cell_type": "code",
   "execution_count": 92,
   "metadata": {},
   "outputs": [],
   "source": [
    "#generateInitialValues([0.1,0.1,0.8], 10, 10)"
   ]
  },
  {
   "cell_type": "code",
   "execution_count": 93,
   "metadata": {},
   "outputs": [],
   "source": [
    "nExperiment = 1\n",
    "for delayValue in delayValues:\n",
    "    for shockCriteriaValue in shockCriteriaValues:\n",
    "        for initialConditionValues in initialConditionsValues:\n",
    "            dir_name = experiment_name + '/' + str(delayValue) + '_' + str(shockCriteriaValue) + '_' + \\\n",
    "            str(initialConditionValues[0]) + '_' + str(initialConditionValues[1]) + \\\n",
    "            '_' + str(initialConditionValues[2])\n",
    "            \n",
    "            context = {\n",
    "                'delayValue' : delayValue,\n",
    "                'shockCriteriaValue' : shockCriteriaValue,\n",
    "                'values' : []\n",
    "            }\n",
    "\n",
    "            \n",
    "            # Generate directory if not exists\n",
    "            if not os.path.exists(dir_name):\n",
    "                os.makedirs(dir_name)\n",
    "            \n",
    "            with open(dir_name + '/opinion-combined-model.ma', 'w') as f:\n",
    "                maFile = render_template(templateMA, context)\n",
    "                f.write(maFile)\n",
    "            with open(dir_name + '/events.ev', 'w') as f:\n",
    "                evFile = render_template(templateEV, context)\n",
    "                f.write(evFile)\n",
    "            with open(dir_name + '/macros.inc', 'w') as f:\n",
    "                macrosFile = render_template(templateMACROS, context)\n",
    "                f.write(macrosFile)\n",
    "                \n",
    "            for experiment in range(0,30): \n",
    "                \n",
    "                # Generate context\n",
    "                context['values'] = generateInitialValues(initialConditionValues, N, M)\n",
    "\n",
    "                # Generate file\n",
    "                with open('{0}/valfile_exp_{1:02d}.val'.format(dir_name, experiment), 'w') as f:\n",
    "                    valFile = render_template(templateVAL, context)\n",
    "                    f.write(valFile)\n",
    "                nExperiment += 1"
   ]
  },
  {
   "cell_type": "code",
   "execution_count": null,
   "metadata": {},
   "outputs": [],
   "source": []
  },
  {
   "cell_type": "code",
   "execution_count": null,
   "metadata": {},
   "outputs": [],
   "source": []
  },
  {
   "cell_type": "code",
   "execution_count": null,
   "metadata": {},
   "outputs": [],
   "source": []
  },
  {
   "cell_type": "code",
   "execution_count": null,
   "metadata": {},
   "outputs": [],
   "source": []
  },
  {
   "cell_type": "code",
   "execution_count": null,
   "metadata": {},
   "outputs": [],
   "source": []
  },
  {
   "cell_type": "code",
   "execution_count": null,
   "metadata": {},
   "outputs": [],
   "source": []
  },
  {
   "cell_type": "code",
   "execution_count": null,
   "metadata": {},
   "outputs": [],
   "source": []
  },
  {
   "cell_type": "code",
   "execution_count": null,
   "metadata": {},
   "outputs": [],
   "source": []
  },
  {
   "cell_type": "code",
   "execution_count": null,
   "metadata": {},
   "outputs": [],
   "source": []
  },
  {
   "cell_type": "code",
   "execution_count": null,
   "metadata": {},
   "outputs": [],
   "source": []
  },
  {
   "cell_type": "code",
   "execution_count": null,
   "metadata": {},
   "outputs": [],
   "source": []
  },
  {
   "cell_type": "code",
   "execution_count": null,
   "metadata": {},
   "outputs": [],
   "source": []
  },
  {
   "cell_type": "code",
   "execution_count": null,
   "metadata": {},
   "outputs": [],
   "source": []
  },
  {
   "cell_type": "code",
   "execution_count": null,
   "metadata": {},
   "outputs": [],
   "source": []
  },
  {
   "cell_type": "code",
   "execution_count": null,
   "metadata": {},
   "outputs": [],
   "source": []
  },
  {
   "cell_type": "code",
   "execution_count": null,
   "metadata": {},
   "outputs": [],
   "source": []
  }
 ],
 "metadata": {
  "kernelspec": {
   "display_name": "Python 2",
   "language": "python",
   "name": "python2"
  },
  "language_info": {
   "codemirror_mode": {
    "name": "ipython",
    "version": 2
   },
   "file_extension": ".py",
   "mimetype": "text/x-python",
   "name": "python",
   "nbconvert_exporter": "python",
   "pygments_lexer": "ipython2",
   "version": "2.7.12"
  }
 },
 "nbformat": 4,
 "nbformat_minor": 2
}
