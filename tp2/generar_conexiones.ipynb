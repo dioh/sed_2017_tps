{
 "metadata": {
  "name": "",
  "signature": "sha256:0b59fb9d7d77cd9d31fc337a0ec39a218f4bd447b0a02be40c659f2450533a9e"
 },
 "nbformat": 3,
 "nbformat_minor": 0,
 "worksheets": [
  {
   "cells": [
    {
     "cell_type": "code",
     "collapsed": false,
     "input": [
      "import numpy as np\n",
      "import random as rd\n",
      "\n",
      "# Parametros\n",
      "N = 10\n",
      "M = 5\n",
      "numGroups = 4\n",
      "modelName  = 'model'\n",
      "atomicName = 'atomic'\n",
      "\n",
      "# Celdas\n",
      "cells  = [(n,m) for n in range(0,N) for m in range(0,M)]\n",
      "assign = []\n",
      "val = 0\n",
      "while len(cells) > 0:\n",
      "    i = rd.randint(0,len(cells)-1)\n",
      "    assign.append((cells[i][0], cells[i][1], val))\n",
      "    cells.pop(i)\n",
      "    val = (val + 1) % numGroups\n",
      "    \n",
      "# Mapeo conexiones de atomics 0..numGroups a las celdas correspondientes\n",
      "cntOut = [0] * numGroups\n",
      "inputsModelo  = []\n",
      "linksInternos = []\n",
      "linksExternos = []\n",
      "for assignation in assign:\n",
      "    inputCellNumber = str(assignation[0]) + str(assignation[1])\n",
      "    # Inputs modelo\n",
      "    inputsModelo.append('in' + inputCellNumber)\n",
      "    \n",
      "    # Links internos\n",
      "    linksInternos.append('link : in' + inputCellNumber + ' in' + inputCellNumber + '@' + modelName + \n",
      "                         '(' + str(assignation[0]) + ',' + str(assignation[1]) + ')')\n",
      "    # Links externos\n",
      "    outputAtomicNumber = str(assignation[2])\n",
      "    linksExternos.append('link : out@' + atomicName + outputAtomicNumber + ' ' + 'in' + inputCellNumber + \n",
      "                         '@' + modelName)\n",
      "    # actualizo valores \n",
      "    cntOut[assignation[2]] += 1\n",
      "\n",
      "print(sorted(inputsModelo))\n",
      "print(sorted(linksExternos))\n",
      "print(sorted(linksInternos))"
     ],
     "language": "python",
     "metadata": {},
     "outputs": [
      {
       "output_type": "stream",
       "stream": "stdout",
       "text": [
        "['in00', 'in01', 'in02', 'in03', 'in04', 'in10', 'in11', 'in12', 'in13', 'in14', 'in20', 'in21', 'in22', 'in23', 'in24', 'in30', 'in31', 'in32', 'in33', 'in34', 'in40', 'in41', 'in42', 'in43', 'in44', 'in50', 'in51', 'in52', 'in53', 'in54', 'in60', 'in61', 'in62', 'in63', 'in64', 'in70', 'in71', 'in72', 'in73', 'in74', 'in80', 'in81', 'in82', 'in83', 'in84', 'in90', 'in91', 'in92', 'in93', 'in94']\n",
        "['link : out@atomic0 in03@model', 'link : out@atomic0 in04@model', 'link : out@atomic0 in14@model', 'link : out@atomic0 in22@model', 'link : out@atomic0 in31@model', 'link : out@atomic0 in40@model', 'link : out@atomic0 in54@model', 'link : out@atomic0 in60@model', 'link : out@atomic0 in73@model', 'link : out@atomic0 in74@model', 'link : out@atomic0 in82@model', 'link : out@atomic0 in84@model', 'link : out@atomic0 in94@model', 'link : out@atomic1 in00@model', 'link : out@atomic1 in01@model', 'link : out@atomic1 in02@model', 'link : out@atomic1 in23@model', 'link : out@atomic1 in24@model', 'link : out@atomic1 in32@model', 'link : out@atomic1 in42@model', 'link : out@atomic1 in43@model', 'link : out@atomic1 in63@model', 'link : out@atomic1 in70@model', 'link : out@atomic1 in80@model', 'link : out@atomic1 in81@model', 'link : out@atomic1 in90@model', 'link : out@atomic2 in10@model', 'link : out@atomic2 in11@model', 'link : out@atomic2 in13@model', 'link : out@atomic2 in30@model', 'link : out@atomic2 in33@model', 'link : out@atomic2 in34@model', 'link : out@atomic2 in50@model', 'link : out@atomic2 in52@model', 'link : out@atomic2 in61@model', 'link : out@atomic2 in83@model', 'link : out@atomic2 in92@model', 'link : out@atomic2 in93@model', 'link : out@atomic3 in12@model', 'link : out@atomic3 in20@model', 'link : out@atomic3 in21@model', 'link : out@atomic3 in41@model', 'link : out@atomic3 in44@model', 'link : out@atomic3 in51@model', 'link : out@atomic3 in53@model', 'link : out@atomic3 in62@model', 'link : out@atomic3 in64@model', 'link : out@atomic3 in71@model', 'link : out@atomic3 in72@model', 'link : out@atomic3 in91@model']\n",
        "['link : in00 in00@model(0,0)', 'link : in01 in01@model(0,1)', 'link : in02 in02@model(0,2)', 'link : in03 in03@model(0,3)', 'link : in04 in04@model(0,4)', 'link : in10 in10@model(1,0)', 'link : in11 in11@model(1,1)', 'link : in12 in12@model(1,2)', 'link : in13 in13@model(1,3)', 'link : in14 in14@model(1,4)', 'link : in20 in20@model(2,0)', 'link : in21 in21@model(2,1)', 'link : in22 in22@model(2,2)', 'link : in23 in23@model(2,3)', 'link : in24 in24@model(2,4)', 'link : in30 in30@model(3,0)', 'link : in31 in31@model(3,1)', 'link : in32 in32@model(3,2)', 'link : in33 in33@model(3,3)', 'link : in34 in34@model(3,4)', 'link : in40 in40@model(4,0)', 'link : in41 in41@model(4,1)', 'link : in42 in42@model(4,2)', 'link : in43 in43@model(4,3)', 'link : in44 in44@model(4,4)', 'link : in50 in50@model(5,0)', 'link : in51 in51@model(5,1)', 'link : in52 in52@model(5,2)', 'link : in53 in53@model(5,3)', 'link : in54 in54@model(5,4)', 'link : in60 in60@model(6,0)', 'link : in61 in61@model(6,1)', 'link : in62 in62@model(6,2)', 'link : in63 in63@model(6,3)', 'link : in64 in64@model(6,4)', 'link : in70 in70@model(7,0)', 'link : in71 in71@model(7,1)', 'link : in72 in72@model(7,2)', 'link : in73 in73@model(7,3)', 'link : in74 in74@model(7,4)', 'link : in80 in80@model(8,0)', 'link : in81 in81@model(8,1)', 'link : in82 in82@model(8,2)', 'link : in83 in83@model(8,3)', 'link : in84 in84@model(8,4)', 'link : in90 in90@model(9,0)', 'link : in91 in91@model(9,1)', 'link : in92 in92@model(9,2)', 'link : in93 in93@model(9,3)', 'link : in94 in94@model(9,4)']\n"
       ]
      }
     ],
     "prompt_number": 28
    },
    {
     "cell_type": "code",
     "collapsed": false,
     "input": [],
     "language": "python",
     "metadata": {},
     "outputs": [],
     "prompt_number": 15
    }
   ],
   "metadata": {}
  }
 ]
}