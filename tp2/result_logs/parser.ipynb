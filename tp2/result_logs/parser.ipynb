{
 "cells": [
  {
   "cell_type": "code",
   "execution_count": 2,
   "metadata": {},
   "outputs": [
    {
     "name": "stdout",
     "output_type": "stream",
     "text": [
      "28\n",
      "22\n",
      "50\n"
     ]
    }
   ],
   "source": [
    "import re\n",
    "\n",
    "N = 10\n",
    "M = 10\n",
    "found = [[0] * M for i in range(0,N)]\n",
    "cntFound = 0\n",
    "A, B, C = [], [], []\n",
    "for ln in reversed(open(\"result_start_10.10_01\",\"r\").readlines()):\n",
    "    if cntFound == N * M:\n",
    "        break\n",
    "    if ln.startswith(\"0 / L / Y /\"):\n",
    "\n",
    "        cell = ln.split('/')[4]\n",
    "        p = re.compile(\"opinion(.*)\\([0-9]+\\)\")\n",
    "        s = p.findall(cell)[0]\n",
    "        x, y, z = int(s[1]), int(s[3]), int(s[5])\n",
    "        if(z == 0 and found[x][y] == 0):\n",
    "            cntFound += 1\n",
    "            found[x][y] = 1\n",
    "            \n",
    "            val  = ln.split('/')[6]\n",
    "            #print([x,y])\n",
    "            val = float(val.strip())\n",
    "            \n",
    "            if(val < -1): \n",
    "                A.append(val)\n",
    "            elif(val >= -1 and val <= 1):\n",
    "                B.append(val)\n",
    "            elif(val > 1):\n",
    "                C.append(val)\n",
    "print(len(A))\n",
    "print(len(B))\n",
    "print(len(C))\n"
   ]
  }
 ],
 "metadata": {
  "kernelspec": {
   "display_name": "Python 2",
   "language": "python",
   "name": "python2"
  },
  "language_info": {
   "codemirror_mode": {
    "name": "ipython",
    "version": 2
   },
   "file_extension": ".py",
   "mimetype": "text/x-python",
   "name": "python",
   "nbconvert_exporter": "python",
   "pygments_lexer": "ipython2",
   "version": "2.7.14"
  }
 },
 "nbformat": 4,
 "nbformat_minor": 1
}
